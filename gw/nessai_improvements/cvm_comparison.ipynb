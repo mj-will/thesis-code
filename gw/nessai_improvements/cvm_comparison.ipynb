{
 "cells": [
  {
   "cell_type": "code",
   "execution_count": null,
   "id": "ebe86537-4112-4c94-955d-4d42c34138ba",
   "metadata": {
    "tags": []
   },
   "outputs": [],
   "source": [
    "import glob\n",
    "import itertools\n",
    "import os\n",
    "\n",
    "import seaborn as sns\n",
    "import corner\n",
    "import matplotlib as mpl\n",
    "import matplotlib.pyplot as plt\n",
    "from natsort import natsorted\n",
    "import numpy as np\n",
    "\n",
    "from thesis_utils.gw import get_cbc_parameter_labels\n",
    "from thesis_utils.plotting import set_plotting, get_default_figsize, save_figure, get_default_corner_kwargs, get_default_figsize\n",
    "from thesis_utils.io import load_json\n",
    "from thesis_utils import colours as thesis_colours\n",
    "\n",
    "# import os\n",
    "os.environ[\"PATH\"] = os.pathsep.join((\"/usr/local/texlive/2022/bin/x86_64-linux\", os.environ[\"PATH\"]))\n",
    "os.environ[\"BILBY_STYLE\"] = \"none\"\n",
    "\n",
    "set_plotting()\n",
    "# plt.rcParams[\"text.usetex\"] = False\n",
    "# plt.rcParams[\"font.family\"] = \"DejaVu Sans\""
   ]
  },
  {
   "attachments": {},
   "cell_type": "markdown",
   "id": "433f15a9-e26e-4f94-b5b3-a22c47254cae",
   "metadata": {},
   "source": [
    "Restults files are saved on HAWK"
   ]
  },
  {
   "cell_type": "code",
   "execution_count": null,
   "id": "bc3ab7a5-f47c-4c65-afa1-d6092f78a472",
   "metadata": {
    "tags": []
   },
   "outputs": [],
   "source": [
    "paper_results_path = \"/home/michael.williams/git_repos/nessai-validation/gw/paper_analysis/original_results/\"\n",
    "cvm_results_path = \"/home/michael.williams/git_repos/nessai-validation/gw/paper_analysis/updated_results/\""
   ]
  },
  {
   "cell_type": "code",
   "execution_count": null,
   "id": "f28ec60a-c57f-4fdc-aacb-d9d774b5ce61",
   "metadata": {
    "tags": []
   },
   "outputs": [],
   "source": [
    "rerun_path = \"/home/michael.williams/git_repos/nessai-validation/gw/paper_analysis/outdir_v0.8.0b1/result/\""
   ]
  },
  {
   "cell_type": "code",
   "execution_count": null,
   "id": "0e2f3a75-ee9b-4513-8bf3-18aae6656b37",
   "metadata": {},
   "outputs": [],
   "source": [
    "orig_path_marg = \"/scratch/michael.williams/projects/nessai-validation/gw/paper_analysis/outdir_nessai_constant_volume_mode_marg_dist/\"\n",
    "orig_path_no_marg = \"/scratch/michael.williams/projects/nessai-validation/gw/paper_analysis/outdir_nessai_constant_volume_mode_A/\"\n"
   ]
  },
  {
   "attachments": {},
   "cell_type": "markdown",
   "id": "35cee97c-be25-4553-896c-a7c7aa1e875b",
   "metadata": {},
   "source": [
    "## Load paper results"
   ]
  },
  {
   "cell_type": "code",
   "execution_count": null,
   "id": "1d6a0d7f-a0f1-4820-995d-a87b888fde0a",
   "metadata": {
    "tags": []
   },
   "outputs": [],
   "source": [
    "dirs = [\n",
    "    a + b for a, b in itertools.product([\"nessai\", \"dynesty\"], [\"\", \"_marg\"])\n",
    "]\n",
    "result_keys = [\"evaluations\", \"evidence\", \"runtimes\"]"
   ]
  },
  {
   "cell_type": "code",
   "execution_count": null,
   "id": "41622d77-f051-4d27-aa75-80a061caf15e",
   "metadata": {
    "tags": []
   },
   "outputs": [],
   "source": [
    "paper_results = {}\n",
    "for d in dirs:\n",
    "    paper_results[d] = {}\n",
    "    for k in result_keys:\n",
    "        paper_results[d][k] = np.array(\n",
    "            list(\n",
    "                load_json(\n",
    "                    os.path.join(paper_results_path, d, f\"{k}.json\")\n",
    "                ).values()\n",
    "            )\n",
    "        )"
   ]
  },
  {
   "cell_type": "code",
   "execution_count": null,
   "id": "a0c7cb41-d7f0-4aea-a5d5-18613e28298f",
   "metadata": {
    "tags": []
   },
   "outputs": [],
   "source": [
    "snrs = np.sqrt(\n",
    "    np.sum(\n",
    "        np.array(\n",
    "            list(\n",
    "                load_json(\n",
    "                    \"/home/michael.williams/git_repos/nessai-paper/results/snrs.json\"\n",
    "                ).values()\n",
    "            )\n",
    "        )\n",
    "        ** 2,\n",
    "        axis=1,\n",
    "    )\n",
    ")"
   ]
  },
  {
   "attachments": {},
   "cell_type": "markdown",
   "id": "cd3ae66a-7335-48c9-a8f4-79f247bd6235",
   "metadata": {
    "tags": []
   },
   "source": [
    "## Load CVM results"
   ]
  },
  {
   "cell_type": "code",
   "execution_count": null,
   "id": "2383b874-abcd-4030-8312-7a7367242623",
   "metadata": {
    "tags": []
   },
   "outputs": [],
   "source": [
    "cvm_result_keys = [\"evaluations\", \"log_evidence\", \"runtimes\"]\n",
    "cvm_path = \"/home/michael.williams/git_repos/nessai-validation/gw/paper_analysis/updated_results/\""
   ]
  },
  {
   "cell_type": "code",
   "execution_count": null,
   "id": "e4c9f243-f322-4abc-88fd-5b808d11cb17",
   "metadata": {
    "tags": []
   },
   "outputs": [],
   "source": [
    "cvm_results = {\"marg\": {}, \"no_marg\": {}}\n",
    "cvm_results[\"no_marg\"][\"evaluations\"] = np.array(list(load_json(cvm_path + \"new_evaluations_wo_marg.json\").values()))\n",
    "cvm_results[\"no_marg\"][\"runtimes\"] = np.array(list(load_json(cvm_path + \"new_runtimes_wo_marg.json\").values()))\n",
    "cvm_results[\"marg\"][\"evaluations\"] = np.array(list(load_json(cvm_path + \"new_evaluations_w_marg.json\").values()))\n",
    "cvm_results[\"marg\"][\"runtimes\"] = np.array(list(load_json(cvm_path + \"new_runtimes_w_marg.json\").values()))"
   ]
  },
  {
   "attachments": {},
   "cell_type": "markdown",
   "id": "79add99b-8ff8-414f-a45b-84d197d2add5",
   "metadata": {},
   "source": [
    "## Load reruns"
   ]
  },
  {
   "cell_type": "code",
   "execution_count": null,
   "id": "1a35b287-b553-48c3-a296-3a951564f77e",
   "metadata": {
    "tags": []
   },
   "outputs": [],
   "source": [
    "import h5py"
   ]
  },
  {
   "cell_type": "code",
   "execution_count": null,
   "id": "17c8527d-e2d3-4d5a-82b7-d74ef4d9e23e",
   "metadata": {
    "tags": []
   },
   "outputs": [],
   "source": [
    "nessai_results_files = natsorted(glob.glob(rerun_path + \"*_nessai/result.hdf5\"))"
   ]
  },
  {
   "cell_type": "code",
   "execution_count": null,
   "id": "564fadfc-1d30-4620-be1b-b8e8d8a6b508",
   "metadata": {
    "tags": []
   },
   "outputs": [],
   "source": [
    "rerun_results = dict(evaluations=[], log_evidence=[], runtimes=[])\n",
    "for rf in nessai_results_files:\n",
    "    with h5py.File(rf, \"r\") as f:\n",
    "        rerun_results[\"evaluations\"].append(f[\"total_likelihood_evaluations\"][()])\n",
    "        rerun_results[\"log_evidence\"].append(f[\"log_evidence\"][()])\n",
    "        rerun_results[\"runtimes\"].append(f[\"sampling_time\"][()])\n",
    "rerun_results = {k: np.array(v) for k, v in rerun_results.items()}"
   ]
  },
  {
   "attachments": {},
   "cell_type": "markdown",
   "id": "264c81a3-e0f1-4d0d-8c13-f58dd0e84814",
   "metadata": {},
   "source": [
    "## Compare results"
   ]
  },
  {
   "cell_type": "code",
   "execution_count": null,
   "id": "f77de672-5a2f-40e5-a3f5-9d273ea2c521",
   "metadata": {
    "tags": []
   },
   "outputs": [],
   "source": [
    "print(\"Summary of results (no marg)\")\n",
    "print(\"Improvement:\")\n",
    "print(\n",
    "    \"Evaluations:\",\n",
    "    np.median(\n",
    "        paper_results[\"nessai\"][\"evaluations\"] / cvm_results[\"no_marg\"][\"evaluations\"]\n",
    "    ),\n",
    ")\n",
    "print(\n",
    "    \"Times:\",\n",
    "    np.median(paper_results[\"nessai\"][\"runtimes\"] / cvm_results[\"no_marg\"][\"runtimes\"]),\n",
    ")\n",
    "print(\"Summary of results (marg)\")\n",
    "print(\"Improvement:\")\n",
    "print(\n",
    "    \"Evaluations:\",\n",
    "    np.median(\n",
    "        paper_results[\"nessai_marg\"][\"evaluations\"] / cvm_results[\"marg\"][\"evaluations\"]\n",
    "    ),\n",
    ")\n",
    "print(\n",
    "    \"Times:\",\n",
    "    np.median(paper_results[\"nessai_marg\"][\"runtimes\"] / cvm_results[\"marg\"][\"runtimes\"]),\n",
    ")\n",
    "\n",
    "print(\"Summary of results (rerun)\")\n",
    "print(\"Improvement:\")\n",
    "print(\n",
    "    \"Evaluations:\",\n",
    "    np.median(\n",
    "        paper_results[\"nessai\"][\"evaluations\"] / rerun_results[\"evaluations\"]\n",
    "    ),\n",
    ")\n",
    "print(\n",
    "    \"Times:\",\n",
    "    np.median(paper_results[\"nessai\"][\"runtimes\"] / rerun_results[\"runtimes\"]),\n",
    ")\n",
    "print(\"Summary of results (dynesty)\")\n",
    "print(\n",
    "    \"Evaluations:\",\n",
    "    np.mean(\n",
    "        paper_results[\"dynesty_marg\"][\"evaluations\"] / cvm_results[\"marg\"][\"evaluations\"]\n",
    "    ),\n",
    ")\n",
    "print(\n",
    "    \"Times:\",\n",
    "    np.median(paper_results[\"dynesty_marg\"][\"runtimes\"] / cvm_results[\"marg\"][\"runtimes\"]),\n",
    ")"
   ]
  },
  {
   "cell_type": "code",
   "execution_count": null,
   "id": "3b3666f5-9317-45ae-8185-d463bdab999b",
   "metadata": {
    "tags": []
   },
   "outputs": [],
   "source": [
    "np.median(cvm_results[\"marg\"][\"evaluations\"])"
   ]
  },
  {
   "cell_type": "code",
   "execution_count": null,
   "id": "1cc49f8e-9f48-43c4-ba96-991622f286d6",
   "metadata": {
    "tags": []
   },
   "outputs": [],
   "source": [
    "colours = {\n",
    "    \"dynesty\": \"C0\",\n",
    "    \"nessai\": \"C1\",\n",
    "    \"cvm\": \"C2\",\n",
    "    # \"rerun\": \"C3\",\n",
    "}\n",
    "ls = {\n",
    "    \"dynesty\": \"-.\",\n",
    "    \"nessai\": \"--\",\n",
    "    \"cvm\": \"-\",\n",
    "    # \"rerun\": \":\",\n",
    "}"
   ]
  },
  {
   "cell_type": "code",
   "execution_count": null,
   "id": "c6cf3e8a-9900-4caf-bd0e-ae4934f782fa",
   "metadata": {
    "tags": []
   },
   "outputs": [],
   "source": [
    "labels = {\n",
    "    \"dynesty\": \"dynesty\",\n",
    "    \"nessai\": \"nessai - Williams et al. 2021\",\n",
    "    \"cvm\": \"nessai - CVM\",\n",
    "    # \"rerun\": \"nessai - CVM -  rerun\",\n",
    "}"
   ]
  },
  {
   "cell_type": "code",
   "execution_count": null,
   "id": "8babcaf0-d2f8-4dec-93b1-c17ef070edba",
   "metadata": {
    "tags": []
   },
   "outputs": [],
   "source": [
    "figsize = get_default_figsize()\n",
    "figsize[1] *= 0.78\n",
    "fig, axs = plt.subplots(2, 2, sharey=True, figsize=figsize, sharex=\"col\")\n",
    "\n",
    "bins = [np.logspace(5.8, 8, 16), np.logspace(0.1, 3.0, 20)]\n",
    "\n",
    "hist_kwargs = dict(histtype=\"step\")\n",
    "factors = [1, 3600]\n",
    "\n",
    "for i, (k, factor, b) in enumerate(zip([\"evaluations\", \"runtimes\"], factors, bins)):\n",
    "\n",
    "    axs[0, i].hist(\n",
    "        paper_results[\"dynesty\"][k] / factor,\n",
    "        bins=b,\n",
    "        color=colours[\"dynesty\"],\n",
    "        ls=ls[\"dynesty\"],\n",
    "        **hist_kwargs,\n",
    "    )\n",
    "    axs[0, i].hist(\n",
    "        paper_results[\"nessai\"][k] / factor,\n",
    "        bins=b,\n",
    "        color=colours[\"nessai\"],\n",
    "        ls=ls[\"nessai\"],\n",
    "        **hist_kwargs,\n",
    "    )\n",
    "    axs[0, i].hist(\n",
    "        cvm_results[\"no_marg\"][k] / factor,\n",
    "        bins=b,\n",
    "        color=colours[\"cvm\"],\n",
    "        ls=ls[\"cvm\"],\n",
    "        **hist_kwargs\n",
    "    )\n",
    "    \n",
    "    axs[1, i].hist(\n",
    "        paper_results[\"dynesty_marg\"][k] / factor,\n",
    "        bins=b,\n",
    "        color=colours[\"dynesty\"],\n",
    "        ls=ls[\"dynesty\"],\n",
    "        **hist_kwargs,\n",
    "    )\n",
    "    axs[1, i].hist(\n",
    "        paper_results[\"nessai_marg\"][k] / factor,\n",
    "        bins=b,\n",
    "        color=colours[\"nessai\"],\n",
    "        ls=ls[\"nessai\"],\n",
    "        **hist_kwargs,\n",
    "    )\n",
    "    axs[1, i].hist(\n",
    "        cvm_results[\"marg\"][k] / factor,\n",
    "        bins=b,\n",
    "        color=colours[\"cvm\"],\n",
    "        ls=ls[\"cvm\"],\n",
    "        **hist_kwargs\n",
    "    )\n",
    "    \n",
    "    # axs[i].hist(\n",
    "    #     rerun_results[k] / factor,\n",
    "    #     bins=b,\n",
    "    #     color=colours[\"rerun\"],\n",
    "    #     ls=ls[\"rerun\"],\n",
    "    #     **hist_kwargs\n",
    "    # )\n",
    "\n",
    "for ax in axs.reshape(-1):\n",
    "    ax.set_xscale(\"log\")\n",
    "\n",
    "axs[0, 0].text(0.05, 0.9, \"No distance marg.\", transform=axs[0, 0].transAxes)\n",
    "axs[0, 1].text(0.05, 0.9, \"No distance marg.\", transform=axs[0, 1].transAxes)\n",
    "axs[1, 0].text(0.05, 0.9, \"Distance marg.\", transform=axs[1, 0].transAxes)\n",
    "axs[1, 1].text(0.05, 0.9, \"Distance marg.\", transform=axs[1, 1].transAxes)\n",
    "\n",
    "\n",
    "    \n",
    "# axs[0, 0].set_xscale(\"log\")\n",
    "axs[1, 0].set_xlabel(\"Likelihood evaluations\")\n",
    "\n",
    "# axs[1].set_xscale(\"log\")\n",
    "# axs[0, 1].set_xlabel(\"Wall time [hr]\")\n",
    "axs[1, 1].set_xlabel(\"Wall time [hrs]\")\n",
    "\n",
    "handles = []\n",
    "legend_labels = []\n",
    "for sampler in labels.keys():\n",
    "    legend_labels.append(labels[sampler])\n",
    "    handles.append(mpl.lines.Line2D([0, 1], [0, 1], color=colours[sampler], ls=ls[sampler]))\n",
    "plt.tight_layout()\n",
    "fig.legend(\n",
    "    handles,\n",
    "    legend_labels,\n",
    "    loc=\"center\",\n",
    "    ncol=3,\n",
    "    bbox_to_anchor=(0.5, -0.0)\n",
    ")\n",
    "save_figure(fig, \"nessai_cvm_comparison_gw\", \"figures\")\n",
    "plt.show()"
   ]
  },
  {
   "attachments": {},
   "cell_type": "markdown",
   "id": "88ffa588-ac28-441b-9aec-18ddc478f955",
   "metadata": {
    "tags": []
   },
   "source": [
    "## Per event comparison"
   ]
  },
  {
   "cell_type": "code",
   "execution_count": null,
   "id": "b5e48df2-f853-4bc4-8ef2-13e04546965e",
   "metadata": {
    "tags": []
   },
   "outputs": [],
   "source": [
    "fig, axs = plt.subplots(\n",
    "    2, 2,\n",
    "    sharex=\"col\",\n",
    "    sharey=\"row\",\n",
    "    gridspec_kw={'width_ratios': [3, 1]},\n",
    "    #figsize=figsize,\n",
    ")\n",
    "fig.subplots_adjust(wspace=0)\n",
    "\n",
    "\n",
    "bins = np.logspace(-1.2, 2.5, 12)\n",
    "\n",
    "for i, k in enumerate([\"evaluations\", \"runtimes\"]):\n",
    "\n",
    "    axs[i, 0].scatter(\n",
    "        snrs,\n",
    "        paper_results[\"dynesty_marg\"][k] / paper_results[\"nessai_marg\"][k],\n",
    "        marker=\".\",\n",
    "        color=\"C1\",\n",
    "    )\n",
    "    \n",
    "    axs[i, 0].scatter(\n",
    "        snrs,\n",
    "        paper_results[\"dynesty_marg\"][k] / cvm_results[\"marg\"][k],\n",
    "        marker=\"+\",\n",
    "        color=\"C2\"\n",
    "    )  # , bins=bins, **hist_kwargs)\n",
    "    \n",
    "    hist_kwargs = dict(\n",
    "        histtype=\"step\",\n",
    "        bins=bins,\n",
    "    )\n",
    "    \n",
    "    axs[i, 1].hist(\n",
    "        paper_results[\"dynesty_marg\"][k] / paper_results[\"nessai_marg\"][k],\n",
    "        orientation=\"horizontal\",\n",
    "        color=\"C1\",\n",
    "        **hist_kwargs\n",
    "    )\n",
    "    \n",
    "    axs[i, 1].hist(\n",
    "        paper_results[\"dynesty_marg\"][k] / cvm_results[\"marg\"][k],\n",
    "        orientation=\"horizontal\",\n",
    "        color=\"C2\",\n",
    "        **hist_kwargs\n",
    "\n",
    "    )\n",
    "\n",
    "    axs[i, 0].axhline(1.0, zorder=-1, color=\"k\")\n",
    "    axs[i, 1].axhline(1.0, zorder=-1, color=\"k\")\n",
    "    axs[i, 0].set_xscale(\"log\")\n",
    "    axs[i, 0].set_yscale(\"log\")\n",
    "    # axs[i].set_xlabel(r\"$\\rho$\")\n",
    "    \n",
    "axs[0, 0].set_ylabel(\"Ratio - likelihood evaluations\")\n",
    "axs[1, 0].set_ylabel(\"Ratio - wall times\")\n",
    "axs[1, 0].set_xlabel(r\"$\\rho$\")\n",
    "axs[1, 1].set_xlabel(r\"Counts\")\n",
    "\n",
    "save_figure(fig, \"snr_breakdown\")\n",
    "\n",
    "plt.show()"
   ]
  },
  {
   "cell_type": "code",
   "execution_count": null,
   "id": "2588418d-684a-48bd-aba3-c6cf018b6877",
   "metadata": {
    "tags": []
   },
   "outputs": [],
   "source": [
    "fig, axs = plt.subplots(\n",
    "    2, 2,\n",
    "    sharex=\"col\",\n",
    "    sharey=\"row\",\n",
    "    gridspec_kw={'width_ratios': [3, 1]},\n",
    "    #figsize=figsize,\n",
    ")\n",
    "fig.subplots_adjust(wspace=0)\n",
    "\n",
    "\n",
    "bins = np.logspace(-0.2, 1.1, 12)\n",
    "\n",
    "for i, k in enumerate([\"evaluations\", \"runtimes\"]):\n",
    "\n",
    "    axs[i, 0].scatter(\n",
    "        snrs,\n",
    "        paper_results[\"nessai_marg\"][k] / cvm_results[\"marg\"][k],\n",
    "        marker=\".\",\n",
    "        color=\"C0\"\n",
    "    )  # , bins=bins, **hist_kwargs)\n",
    "    \n",
    "    hist_kwargs = dict(\n",
    "        histtype=\"step\",\n",
    "        bins=bins,\n",
    "    )\n",
    "\n",
    "    axs[i, 1].hist(\n",
    "        paper_results[\"nessai_marg\"][k] / cvm_results[\"marg\"][k],\n",
    "        orientation=\"horizontal\",\n",
    "        color=\"C0\",\n",
    "        **hist_kwargs\n",
    "\n",
    "    )\n",
    "\n",
    "    axs[i, 0].axhline(1.0, zorder=-1, color=\"k\")\n",
    "    axs[i, 1].axhline(1.0, zorder=-1, color=\"k\")\n",
    "    axs[i, 0].set_xscale(\"log\")\n",
    "    axs[i, 0].set_yscale(\"log\")\n",
    "    # axs[i].set_xlabel(r\"$\\rho$\")\n",
    "    \n",
    "# axs[0, 1].yaxis.set_tick_params(labelright='off', labelleft='off')\n",
    "# axs[1, 1].yaxis.set_tick_params(labelright='off', labelleft='off')\n",
    "\n",
    "axs[0, 0].set_ylabel(\"Ratio - likelihood evaluations\")\n",
    "axs[1, 0].set_ylabel(\"Ratio - wall times\")\n",
    "axs[1, 0].set_xlabel(r\"$\\rho$\")\n",
    "axs[1, 1].set_xlabel(r\"Counts\")\n",
    "\n",
    "save_figure(fig, \"snr_breakdown_nessai\")\n",
    "\n",
    "plt.show()"
   ]
  },
  {
   "attachments": {},
   "cell_type": "markdown",
   "id": "5a4fde87-63c7-4c2f-8718-1e6a914cfe78",
   "metadata": {},
   "source": [
    "## Examine \"bad\" runs"
   ]
  },
  {
   "cell_type": "code",
   "execution_count": null,
   "id": "d551f498-207d-4f8e-888b-491f507b5e34",
   "metadata": {
    "tags": []
   },
   "outputs": [],
   "source": [
    "cvm_results_path = \"/scratch/michael.williams/projects/nessai-validation/gw/paper_analysis/outdir_nessai_constant_volume_mode_marg_dist/result/\""
   ]
  },
  {
   "cell_type": "code",
   "execution_count": null,
   "id": "02fce614-69a8-4b28-aeb6-85ed3051f7cf",
   "metadata": {
    "tags": []
   },
   "outputs": [],
   "source": [
    "to_check = np.argsort(paper_results[\"dynesty_marg\"][\"evaluations\"] / cvm_results[\"marg\"][\"evaluations\"])[1:17]"
   ]
  },
  {
   "cell_type": "code",
   "execution_count": null,
   "id": "d8d5fab5-d69c-46c3-90b7-247bf53e75cd",
   "metadata": {
    "tags": []
   },
   "outputs": [],
   "source": [
    "ratios = paper_results[\"dynesty_marg\"][\"evaluations\"] / cvm_results[\"marg\"][\"evaluations\"]"
   ]
  },
  {
   "attachments": {},
   "cell_type": "markdown",
   "id": "dcdd70e9-645a-4165-bbbb-ace9564cdcfe",
   "metadata": {
    "tags": []
   },
   "source": [
    "to_check = np.where(\n",
    "    (paper_results[\"dynesty\"][\"evaluations\"] / cvm_results[\"evaluations\"] < 1.0)\n",
    "    & (paper_results[\"dynesty\"][\"evaluations\"]  != 0.0)\n",
    ")[0]"
   ]
  },
  {
   "cell_type": "code",
   "execution_count": null,
   "id": "761c0416-e745-4c48-a94c-f1627f2ed560",
   "metadata": {
    "tags": []
   },
   "outputs": [],
   "source": [
    "snrs[to_check]"
   ]
  },
  {
   "cell_type": "code",
   "execution_count": null,
   "id": "34547709-e875-4f79-9774-fa04fab970d4",
   "metadata": {
    "tags": []
   },
   "outputs": [],
   "source": [
    "all_cvm_results = natsorted(glob.glob(cvm_results_path + \"*_nessai/result.json\"))\n",
    "cvm_rf_to_check = {i: r for i, r in enumerate(all_cvm_results) if i in to_check}"
   ]
  },
  {
   "cell_type": "code",
   "execution_count": null,
   "id": "2aa5d8af-c045-4954-bb1e-001e1764f206",
   "metadata": {
    "tags": []
   },
   "outputs": [],
   "source": [
    "snrs_to_check = snrs[to_check]\n",
    "ratios_to_check = ratios[to_check]"
   ]
  },
  {
   "cell_type": "code",
   "execution_count": null,
   "id": "2f20eb2b-5d9f-430b-aaf9-40af802335e4",
   "metadata": {
    "tags": []
   },
   "outputs": [],
   "source": [
    "ratios_to_check"
   ]
  },
  {
   "cell_type": "code",
   "execution_count": null,
   "id": "5d0ce180-3860-430a-abfa-e084e4c3a5b4",
   "metadata": {
    "tags": []
   },
   "outputs": [],
   "source": [
    "idx = np.argsort(snrs_to_check)"
   ]
  },
  {
   "cell_type": "code",
   "execution_count": null,
   "id": "a272f228-0e0d-47ba-98e7-577a3cc6e92a",
   "metadata": {},
   "outputs": [],
   "source": []
  },
  {
   "cell_type": "code",
   "execution_count": null,
   "id": "59ada2de-30a4-4efc-bfbf-441028f98651",
   "metadata": {
    "tags": []
   },
   "outputs": [],
   "source": [
    "snr_loc = np.searchsorted(snrs_to_check[idx], snrs_to_check)"
   ]
  },
  {
   "cell_type": "code",
   "execution_count": null,
   "id": "9790ba94-7f14-41f0-a681-0391cfdc8741",
   "metadata": {
    "tags": []
   },
   "outputs": [],
   "source": [
    "results_to_check = {}\n",
    "for i, rf in cvm_rf_to_check.items():\n",
    "    results_to_check[i] = load_json(rf)"
   ]
  },
  {
   "cell_type": "code",
   "execution_count": null,
   "id": "697a1ecc-8b08-4cce-9cb7-5cc3bea867fc",
   "metadata": {
    "tags": []
   },
   "outputs": [],
   "source": [
    "list(results_to_check.keys())"
   ]
  },
  {
   "cell_type": "code",
   "execution_count": null,
   "id": "9512b076-0d7c-41ed-be83-41ed0eb5e031",
   "metadata": {
    "tags": []
   },
   "outputs": [],
   "source": [
    "corner_kwargs = get_default_corner_kwargs()"
   ]
  },
  {
   "cell_type": "code",
   "execution_count": null,
   "id": "098e0f3e-ce1e-44da-b511-1bbcbd021b7e",
   "metadata": {
    "tags": []
   },
   "outputs": [],
   "source": [
    "grid_figsize = 1 * get_default_figsize()"
   ]
  },
  {
   "cell_type": "code",
   "execution_count": null,
   "id": "8c369463-c0d4-4b61-b320-7ebf758c9ab2",
   "metadata": {
    "tags": []
   },
   "outputs": [],
   "source": [
    "fig_sky, axs_sky = plt.subplots(\n",
    "    4, 4,\n",
    "    sharex=True,\n",
    "    sharey=True,\n",
    "    figsize=grid_figsize,\n",
    ")\n",
    "plt.subplots_adjust(hspace=0.1, wspace=0.1)\n",
    "\n",
    "fig_time, axs_time = plt.subplots(4, 4, sharex=True, sharey=True, figsize=grid_figsize)\n",
    "plt.subplots_adjust(hspace=0.1, wspace=0.1)\n",
    "\n",
    "\n",
    "ra_label, dec_label, t_label = get_cbc_parameter_labels([\"ra\", \"dec\", \"geocent_time\"], units=True)\n",
    "# t_label = \"t_c\"\n",
    "\n",
    "time_xticks = np.array([-0.1, -0.05, 0.0, 0.05, 0.1])\n",
    "\n",
    "# Set axis labels before unravelling the arrays\n",
    "for i in range(4):\n",
    "    axs_sky[-1, i].set_xlabel(dec_label)\n",
    "    axs_time[-1, i].set_xlabel(t_label)\n",
    "\n",
    "for i in range(4):\n",
    "    axs_sky[i, 0].set_ylabel(ra_label)\n",
    "    axs_time[i, 0].set_ylabel(\"Density\") \n",
    "\n",
    "axs_sky = axs_sky.ravel()\n",
    "axs_time = axs_time.ravel()\n",
    "\n",
    "bins = np.linspace(-0.1, 0.1, 64, endpoint=True)\n",
    "\n",
    "for i, snr, (run_id, result) in zip(snr_loc, snrs_to_check, results_to_check.items()):\n",
    "    \n",
    "    \n",
    "    # print(ratio)\n",
    "    corner.hist2d(\n",
    "        np.array(result[\"nested_samples\"][\"ra\"]),\n",
    "        np.array(result[\"nested_samples\"][\"dec\"]),\n",
    "        bins=64,\n",
    "        color=thesis_colours.teal,\n",
    "        smooth=0.8,\n",
    "        ax=axs_sky[i],\n",
    "        plot_datapoints=False,\n",
    "        fill_contours=True,\n",
    "    )\n",
    "    \n",
    "    axs_time[i].hist(\n",
    "        result[\"nested_samples\"][\"geocent_time\"],\n",
    "        density=True,\n",
    "        bins=bins,\n",
    "        color=thesis_colours.teal,\n",
    "    )\n",
    "    \n",
    "    \n",
    "    ratio = ratios[run_id]\n",
    "    if ratio > 1:\n",
    "        axs_sky[i].text(0.9, 0.8, r\"$\\blacktriangle$\", transform=axs_sky[i].transAxes)\n",
    "        axs_time[i].text(0.9, 0.8, r\"$\\blacktriangle$\",transform=axs_time[i].transAxes)\n",
    "    axs_sky[i].text(0.05, 0.8, rf\"$\\rho={snr:.1f}$\", transform=axs_sky[i].transAxes)\n",
    "    axs_time[i].text(0.05, 0.8, rf\"$\\rho={snr:.1f}$\", transform=axs_time[i].transAxes)\n",
    "    axs_time[i].set_xticks(time_xticks)\n",
    "    axs_time[i].tick_params(axis='x', rotation=45)\n",
    "\n",
    "# axs_sky[-1].axis(\"off\")\n",
    "# axs_time[-1].axis(\"off\")\n",
    "\n",
    "# axs_time.[-3].set_xlabel()\n",
    "\n",
    "# fig_sky.tight_layout()\n",
    "fig_sky.show()\n",
    "# fig_time.tight_layout()\n",
    "fig_time.show()\n",
    "\n",
    "save_figure(fig_sky, \"bad_injections_sky\")\n",
    "save_figure(fig_time, \"bad_injections_time\")"
   ]
  },
  {
   "cell_type": "code",
   "execution_count": null,
   "id": "4ba41765-affa-4d15-bb45-97beb87bb6a1",
   "metadata": {},
   "outputs": [],
   "source": []
  },
  {
   "cell_type": "code",
   "execution_count": null,
   "id": "b54b1ce2-88ac-454d-9418-da376b1280fe",
   "metadata": {},
   "outputs": [],
   "source": []
  }
 ],
 "metadata": {
  "kernelspec": {
   "display_name": "Python 3",
   "language": "python",
   "name": "python3"
  },
  "language_info": {
   "codemirror_mode": {
    "name": "ipython",
    "version": 3
   },
   "file_extension": ".py",
   "mimetype": "text/x-python",
   "name": "python",
   "nbconvert_exporter": "python",
   "pygments_lexer": "ipython3",
   "version": "3.9.16"
  }
 },
 "nbformat": 4,
 "nbformat_minor": 5
}
