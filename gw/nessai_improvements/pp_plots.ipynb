{
 "cells": [
  {
   "cell_type": "code",
   "execution_count": null,
   "id": "45fe7ac0-4ee7-44a2-a74e-885b6598c02a",
   "metadata": {
    "tags": []
   },
   "outputs": [],
   "source": [
    "import glob\n",
    "import itertools\n",
    "import os\n",
    "\n",
    "os.environ[\"PATH\"] = os.pathsep.join((\"/usr/local/texlive/2023/bin/x86_64-linux\", os.environ[\"PATH\"]))\n",
    "os.environ[\"BILBY_STYLE\"] = \"none\"\n",
    "\n",
    "import bilby\n",
    "import seaborn as sns\n",
    "import corner\n",
    "import matplotlib as mpl\n",
    "import matplotlib.pyplot as plt\n",
    "from natsort import natsorted\n",
    "import numpy as np\n",
    "import tqdm\n",
    "\n",
    "import thesis_utils\n",
    "from thesis_utils.gw import get_cbc_parameter_labels\n",
    "from thesis_utils.plotting import (\n",
    "    set_plotting,\n",
    "    get_default_figsize,\n",
    "    save_figure,\n",
    "    get_default_corner_kwargs,\n",
    "    get_default_figsize,\n",
    "    make_pp_plot_bilby_results,\n",
    ")\n",
    "from thesis_utils.io import load_json\n",
    "from thesis_utils import colours as thesis_colours\n",
    "\n",
    "# import os\n",
    "\n",
    "set_plotting()\n",
    "\n",
    "from importlib import reload\n",
    "reload(thesis_utils)\n"
   ]
  },
  {
   "cell_type": "code",
   "execution_count": null,
   "id": "2e077712-a73b-46bd-bbe3-14f67283bf2e",
   "metadata": {
    "tags": []
   },
   "outputs": [],
   "source": [
    "orig_path_marg = \"/scratch/michael.williams/projects/nessai-validation/gw/paper_analysis/outdir_nessai_constant_volume_mode_marg_dist/\"\n",
    "orig_path_no_marg = \"/scratch/michael.williams/projects/nessai-validation/gw/paper_analysis/outdir_nessai_constant_volume_mode_A/\""
   ]
  },
  {
   "cell_type": "code",
   "execution_count": null,
   "id": "5f7575b9-2f3e-4a70-af50-7f8a500f88bd",
   "metadata": {
    "tags": []
   },
   "outputs": [],
   "source": [
    "marg_result_files = natsorted(glob.glob(orig_path_marg + \"result/*.json\"))\n",
    "no_marg_result_files = natsorted(glob.glob(orig_path_no_marg + \"result/*.json\"))"
   ]
  },
  {
   "cell_type": "code",
   "execution_count": null,
   "id": "4c264da2-285f-4673-a262-3d650f3e26cd",
   "metadata": {
    "tags": []
   },
   "outputs": [],
   "source": [
    "marg_results = []\n",
    "for rf in tqdm.tqdm(marg_result_files):\n",
    "    marg_results.append(bilby.core.result.read_in_result(rf))"
   ]
  },
  {
   "cell_type": "code",
   "execution_count": null,
   "id": "7078e479-609c-476f-91a5-bf61c4fca069",
   "metadata": {
    "tags": []
   },
   "outputs": [],
   "source": [
    "no_marg_results = []\n",
    "for rf in tqdm.tqdm(no_marg_result_files):\n",
    "    no_marg_results.append(bilby.core.result.read_in_result(rf))"
   ]
  },
  {
   "cell_type": "code",
   "execution_count": null,
   "id": "fd63895f-7975-4d85-89c3-d6759b85e148",
   "metadata": {
    "tags": []
   },
   "outputs": [],
   "source": [
    "parameters = no_marg_results[0].search_parameter_keys"
   ]
  },
  {
   "cell_type": "code",
   "execution_count": null,
   "id": "15114980-7b83-4938-bfed-d554b511c160",
   "metadata": {
    "tags": []
   },
   "outputs": [],
   "source": [
    "labels = {p : get_cbc_parameter_labels(p, units=False) for p in parameters}"
   ]
  },
  {
   "cell_type": "code",
   "execution_count": null,
   "id": "38052a8d-0cb3-443e-9ec5-60b89f631f32",
   "metadata": {
    "tags": []
   },
   "outputs": [],
   "source": [
    "figsize = get_default_figsize()\n",
    "figsize[1] = figsize[0]\n",
    "figsize /= 1.5"
   ]
  },
  {
   "cell_type": "code",
   "execution_count": null,
   "id": "1371fb75-7851-4449-ba20-1878ae874fe4",
   "metadata": {
    "tags": []
   },
   "outputs": [],
   "source": [
    "fig, pvals = make_pp_plot_bilby_results(\n",
    "    marg_results,\n",
    "    labels=labels,\n",
    "    width=figsize[0],\n",
    "    height=figsize[0],\n",
    "    colours=['#d73027','#fc8d59','#fee090','#91bfdb','#4575b4'],\n",
    ")\n",
    "save_figure(fig, \"pp_plot_cvm_marg\")"
   ]
  },
  {
   "cell_type": "code",
   "execution_count": null,
   "id": "b9e0f82e-f144-4bb4-b337-a353e5d90327",
   "metadata": {
    "tags": []
   },
   "outputs": [],
   "source": [
    "fig, pvals = make_pp_plot_bilby_results(\n",
    "    no_marg_results,\n",
    "    labels=labels,\n",
    "    width=figsize[0],\n",
    "    height=figsize[0],\n",
    "    colours=['#d73027','#fc8d59','#fee090','#91bfdb','#4575b4'],\n",
    "    \n",
    ")\n",
    "save_figure(fig, \"pp_plot_cvm_no_marg\")"
   ]
  },
  {
   "cell_type": "code",
   "execution_count": null,
   "id": "44ab0128",
   "metadata": {},
   "outputs": [],
   "source": []
  }
 ],
 "metadata": {
  "kernelspec": {
   "display_name": "Python 3",
   "language": "python",
   "name": "python3"
  },
  "language_info": {
   "codemirror_mode": {
    "name": "ipython",
    "version": 3
   },
   "file_extension": ".py",
   "mimetype": "text/x-python",
   "name": "python",
   "nbconvert_exporter": "python",
   "pygments_lexer": "ipython3",
   "version": "3.9.16"
  }
 },
 "nbformat": 4,
 "nbformat_minor": 5
}
