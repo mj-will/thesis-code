{
 "cells": [
  {
   "attachments": {},
   "cell_type": "markdown",
   "metadata": {},
   "source": [
    "# Plots of the gravitational-wave parameter space\n",
    "\n",
    "Michael J. Williams 2023"
   ]
  },
  {
   "cell_type": "code",
   "execution_count": null,
   "metadata": {},
   "outputs": [],
   "source": [
    "import multiprocessing as mp\n",
    "\n",
    "import bilby\n",
    "import matplotlib.pyplot as plt\n",
    "import numpy as np\n",
    "\n",
    "from thesis_utils import colours\n",
    "from thesis_utils.plotting import get_default_figsize, save_figure, set_plotting\n",
    "from thesis_utils.gw import injections, get_cbc_parameter_labels\n",
    "\n",
    "set_plotting()"
   ]
  },
  {
   "cell_type": "code",
   "execution_count": null,
   "metadata": {},
   "outputs": [],
   "source": [
    "sampling_frequency = 2048\n",
    "duration = 4.0"
   ]
  },
  {
   "cell_type": "code",
   "execution_count": null,
   "metadata": {},
   "outputs": [],
   "source": [
    "injection_parameters = injections.BBH_GW150914.bilby_format()\n",
    "print(f\"Injection parameters: {injection_parameters}\")"
   ]
  },
  {
   "cell_type": "code",
   "execution_count": null,
   "metadata": {},
   "outputs": [],
   "source": [
    "priors = bilby.gw.prior.BBHPriorDict()\n",
    "for key in [\n",
    "    \"a_1\",\n",
    "    \"a_2\",\n",
    "    \"tilt_1\",\n",
    "    \"tilt_2\",\n",
    "    \"phi_12\",\n",
    "    \"phi_jl\",\n",
    "    \"luminosity_distance\",\n",
    "    \"psi\",\n",
    "    \"geocent_time\",\n",
    "    \"ra\",\n",
    "    \"dec\",\n",
    "    \"theta_jn\",\n",
    "    \"phase\",\n",
    "]:\n",
    "    priors[key] = injection_parameters[key]\n",
    "\n",
    "priors[\"chirp_mass\"] = bilby.gw.prior.UniformInComponentsChirpMass(minimum=15, maximum=35)"
   ]
  },
  {
   "cell_type": "code",
   "execution_count": null,
   "metadata": {},
   "outputs": [],
   "source": [
    "waveform_arguments = dict(\n",
    "    waveform_approximant=\"IMRPhenomXP\", reference_frequency=50.0\n",
    ")\n",
    "\n",
    "# Create the waveform_generator\n",
    "waveform_generator = bilby.gw.waveform_generator.WaveformGenerator(\n",
    "    sampling_frequency=sampling_frequency,\n",
    "    duration=duration,\n",
    "    frequency_domain_source_model=bilby.gw.source.lal_binary_black_hole,\n",
    "    parameter_conversion=(\n",
    "        bilby.gw.conversion.convert_to_lal_binary_black_hole_parameters\n",
    "    ),\n",
    "    waveform_arguments=waveform_arguments,\n",
    ")"
   ]
  },
  {
   "cell_type": "code",
   "execution_count": null,
   "metadata": {},
   "outputs": [],
   "source": [
    "ifos = bilby.gw.detector.InterferometerList([\"H1\", \"L1\"])\n",
    "ifos.set_strain_data_from_zero_noise(\n",
    "    sampling_frequency=sampling_frequency,\n",
    "    duration=duration,\n",
    "    start_time=injection_parameters[\"geocent_time\"] - 3,\n",
    ")\n",
    "ifos.inject_signal(\n",
    "    waveform_generator=waveform_generator,\n",
    "    parameters=injection_parameters,\n",
    ")"
   ]
  },
  {
   "cell_type": "code",
   "execution_count": null,
   "metadata": {},
   "outputs": [],
   "source": [
    "likelihood = bilby.gw.likelihood.GravitationalWaveTransient(\n",
    "    interferometers=ifos,\n",
    "    priors=priors,\n",
    "    waveform_generator=waveform_generator,\n",
    "    \n",
    ")"
   ]
  },
  {
   "cell_type": "code",
   "execution_count": null,
   "metadata": {},
   "outputs": [],
   "source": [
    "parameters = injection_parameters.copy()\n",
    "parameters.pop(\"mass_1\")\n",
    "parameters.pop(\"mass_2\")"
   ]
  },
  {
   "cell_type": "code",
   "execution_count": null,
   "metadata": {},
   "outputs": [],
   "source": [
    "n_grid = 100\n",
    "grid = np.meshgrid(\n",
    "    np.linspace(priors[\"chirp_mass\"].minimum, priors[\"chirp_mass\"].maximum, num=n_grid, endpoint=True),\n",
    "    np.linspace(priors[\"mass_ratio\"].minimum, priors[\"mass_ratio\"].maximum, num=n_grid, endpoint=True)\n",
    ")\n",
    "grid_dicts = [\n",
    "    dict(parameters, **dict(mass_ratio=q, chirp_mass=m)) for m, q in zip(grid[0].flatten(), grid[1].flatten())\n",
    "]"
   ]
  },
  {
   "cell_type": "code",
   "execution_count": null,
   "metadata": {},
   "outputs": [],
   "source": [
    "def log_likelihood(parameters):\n",
    "    likelihood.parameters = parameters\n",
    "    return likelihood.log_likelihood()"
   ]
  },
  {
   "cell_type": "code",
   "execution_count": null,
   "metadata": {},
   "outputs": [],
   "source": [
    "log_likelihood(grid_dicts[0])"
   ]
  },
  {
   "cell_type": "code",
   "execution_count": null,
   "metadata": {},
   "outputs": [],
   "source": [
    "with mp.Pool(8) as pool:\n",
    "    log_l = np.array(pool.map(log_likelihood, grid_dicts))"
   ]
  },
  {
   "cell_type": "code",
   "execution_count": null,
   "metadata": {},
   "outputs": [],
   "source": [
    "log_l_grid = log_l.reshape(n_grid, n_grid)"
   ]
  },
  {
   "cell_type": "code",
   "execution_count": null,
   "metadata": {},
   "outputs": [],
   "source": [
    "injection_all_parameters = bilby.gw.conversion.generate_all_bbh_parameters(injection_parameters.copy())"
   ]
  },
  {
   "cell_type": "code",
   "execution_count": null,
   "metadata": {},
   "outputs": [],
   "source": [
    "figsize = 0.5 * get_default_figsize()\n",
    "\n",
    "fig = plt.figure(figsize=figsize)\n",
    "plt.contourf(grid[0], grid[1], log_l_grid, cmap=\"cividis\")\n",
    "plt.colorbar(label=\"Log-likelihood\")\n",
    "plt.xlabel(get_cbc_parameter_labels(\"chirp_mass\", units=True))\n",
    "plt.ylabel(get_cbc_parameter_labels(\"mass_ratio\", units=True))\n",
    "plt.axvline(injection_all_parameters[\"chirp_mass\"], color=colours.pillarbox)\n",
    "plt.axhline(injection_all_parameters[\"mass_ratio\"], color=colours.pillarbox)\n",
    "plt.scatter(\n",
    "    injection_all_parameters[\"chirp_mass\"],\n",
    "    injection_all_parameters[\"mass_ratio\"],\n",
    "    marker=\"s\",\n",
    "    color=colours.pillarbox,\n",
    ")\n",
    "save_figure(fig, \"chirp_mass_vs_mass_ratio\", \"figures\")\n",
    "plt.show()"
   ]
  },
  {
   "attachments": {},
   "cell_type": "markdown",
   "metadata": {},
   "source": [
    "## Prior plots"
   ]
  },
  {
   "cell_type": "code",
   "execution_count": null,
   "metadata": {},
   "outputs": [],
   "source": [
    "from bilby.core.prior import Uniform, Constraint\n",
    "from bilby.gw.prior import CBCPriorDict"
   ]
  },
  {
   "cell_type": "code",
   "execution_count": null,
   "metadata": {},
   "outputs": [],
   "source": [
    "component_priors = CBCPriorDict(dict(\n",
    "    mass_1=Uniform(5, 100),\n",
    "    mass_2=Uniform(5, 100),\n",
    "    mass_ratio=Constraint(0.05, 1),\n",
    "    chirp_mass=Constraint(1, 1000),\n",
    "))"
   ]
  },
  {
   "cell_type": "code",
   "execution_count": null,
   "metadata": {},
   "outputs": [],
   "source": [
    "mplot_min = 5\n",
    "mplot_max = 100\n",
    "m_vec = np.linspace(mplot_min, mplot_max, 500, endpoint=True)"
   ]
  },
  {
   "cell_type": "code",
   "execution_count": null,
   "metadata": {},
   "outputs": [],
   "source": [
    "m1, m2 = np.meshgrid(m_vec, m_vec)"
   ]
  },
  {
   "cell_type": "code",
   "execution_count": null,
   "metadata": {},
   "outputs": [],
   "source": [
    "samples = dict(mass_1=m1.flatten(), mass_2=m2.flatten())\n",
    "samples[\"mass_ratio\"] = samples[\"mass_2\"] / samples[\"mass_1\"]\n",
    "samples[\"chirp_mass\"] = bilby.gw.conversion.component_masses_to_chirp_mass(samples[\"mass_1\"], samples[\"mass_2\"])"
   ]
  },
  {
   "cell_type": "code",
   "execution_count": null,
   "metadata": {},
   "outputs": [],
   "source": [
    "log_prior = component_priors.ln_prob(samples, axis=0).reshape(*m1.shape)\n",
    "valid = np.isfinite(log_prior)"
   ]
  },
  {
   "cell_type": "code",
   "execution_count": null,
   "metadata": {},
   "outputs": [],
   "source": [
    "q = samples[\"mass_ratio\"].reshape(*m1.shape)\n",
    "q = np.ma.array(q, mask=~valid, fill_value=np.nan)\n",
    "mc = samples[\"chirp_mass\"].reshape(*m1.shape)\n",
    "mc = np.ma.array(mc, mask=~valid, fill_value=np.nan)\n",
    "mtot = np.ma.array(m1 + m2, mask=~valid, fill_value=np.nan)"
   ]
  },
  {
   "cell_type": "code",
   "execution_count": null,
   "metadata": {},
   "outputs": [],
   "source": [
    "fig, axs = plt.subplots(1, 2, sharex=True, sharey=True)\n",
    "\n",
    "mc_contour = axs[0].contourf(\n",
    "    m1, m2, mc,\n",
    "    levels=16,\n",
    "    cmap=\"crest\",\n",
    ")\n",
    "q_levels = np.arange(0.05, 1.05, 0.05)\n",
    "q_contour = axs[1].contourf(\n",
    "    m1, m2, q,\n",
    "    cmap=\"crest\",\n",
    "    levels=q_levels,\n",
    ")\n",
    "\n",
    "m1_label, m2_label = get_cbc_parameter_labels([\"mass_1\", \"mass_2\"])\n",
    "for ax in axs:\n",
    "    ax.set(adjustable='box', aspect='equal')\n",
    "    ax.set_xlabel(m1_label)\n",
    "axs[0].set_ylabel(m2_label)\n",
    "\n",
    "plt.colorbar(\n",
    "    mc_contour,\n",
    "    ax=axs[0],\n",
    "    orientation=\"horizontal\",\n",
    "    label=get_cbc_parameter_labels(\"chirp_mass\")\n",
    ")\n",
    "plt.colorbar(\n",
    "    q_contour,\n",
    "    ax=axs[1],\n",
    "    orientation=\"horizontal\",\n",
    "    label=get_cbc_parameter_labels(\"mass_ratio\"),\n",
    "    ticks=q_levels[1::2],\n",
    ")\n",
    "plt.show()\n",
    "save_figure(fig, \"mass_space\")"
   ]
  },
  {
   "cell_type": "code",
   "execution_count": null,
   "metadata": {},
   "outputs": [],
   "source": []
  }
 ],
 "metadata": {
  "kernelspec": {
   "display_name": "thesis-env",
   "language": "python",
   "name": "python3"
  },
  "language_info": {
   "codemirror_mode": {
    "name": "ipython",
    "version": 3
   },
   "file_extension": ".py",
   "mimetype": "text/x-python",
   "name": "python",
   "nbconvert_exporter": "python",
   "pygments_lexer": "ipython3",
   "version": "3.9.13"
  },
  "vscode": {
   "interpreter": {
    "hash": "ef2be1866d98e7b232ea5df903e74908bf9dc09d0d6f8937263d653b3d150713"
   }
  }
 },
 "nbformat": 4,
 "nbformat_minor": 2
}
