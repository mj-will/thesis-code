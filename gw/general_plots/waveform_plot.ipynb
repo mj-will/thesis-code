{
 "cells": [
  {
   "cell_type": "code",
   "execution_count": null,
   "metadata": {},
   "outputs": [],
   "source": [
    "import matplotlib.pyplot as plt\n",
    "import numpy as np\n",
    "from pycbc.waveform import get_td_waveform\n",
    "\n",
    "from thesis_utils.plotting import set_plotting, save_figure, get_default_figsize\n",
    "from thesis_utils import colours as thesis_colours\n",
    "\n",
    "set_plotting()"
   ]
  },
  {
   "cell_type": "code",
   "execution_count": null,
   "metadata": {},
   "outputs": [],
   "source": [
    "fs = 4096\n",
    "f_low = 15"
   ]
  },
  {
   "cell_type": "code",
   "execution_count": null,
   "metadata": {},
   "outputs": [],
   "source": [
    "hp, hc = get_td_waveform(\n",
    "    approximant=\"IMRPhenomXPHM\",\n",
    "    mass1=32,\n",
    "    mass2=29,\n",
    "    spin1z=0.9,\n",
    "    delta_t=1.0/fs,\n",
    "    f_lower=f_low\n",
    ")\n"
   ]
  },
  {
   "cell_type": "code",
   "execution_count": null,
   "metadata": {},
   "outputs": [],
   "source": [
    "figsize = get_default_figsize()\n",
    "figsize[1] /= 2\n",
    "fig, axs = plt.subplots(1, 2, figsize=figsize, sharey=True, width_ratios=[3, 1])\n",
    "axs[0].plot(hp.sample_times, hp, c=thesis_colours.teal)\n",
    "axs[0].set_xlim([-2.0, 0.05])\n",
    "axs[0].set_xlabel(\"$t\\;[s]$\")\n",
    "axs[0].set_ylabel(\"$h_{+}$\")\n",
    "\n",
    "axs[1].plot(hp.sample_times, hp, c=thesis_colours.teal)\n",
    "axs[1].set_xlim(-0.05, 0.05)\n",
    "axs[1].set_xlabel(\"$t\\;[s]$\")\n",
    "plt.tight_layout()\n",
    "plt.show()\n",
    "save_figure(fig, \"waveform\")\n"
   ]
  },
  {
   "cell_type": "code",
   "execution_count": null,
   "metadata": {},
   "outputs": [],
   "source": []
  }
 ],
 "metadata": {
  "kernelspec": {
   "display_name": "thesis-env",
   "language": "python",
   "name": "python3"
  },
  "language_info": {
   "codemirror_mode": {
    "name": "ipython",
    "version": 3
   },
   "file_extension": ".py",
   "mimetype": "text/x-python",
   "name": "python",
   "nbconvert_exporter": "python",
   "pygments_lexer": "ipython3",
   "version": "3.9.13"
  }
 },
 "nbformat": 4,
 "nbformat_minor": 2
}
