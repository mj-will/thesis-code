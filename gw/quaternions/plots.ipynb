{
 "cells": [
  {
   "cell_type": "code",
   "execution_count": null,
   "metadata": {},
   "outputs": [],
   "source": [
    "from importlib import reload\n",
    "\n",
    "import bilby\n",
    "import corner\n",
    "import matplotlib.pyplot as plt\n",
    "from matplotlib.lines import Line2D\n",
    "import numpy as np\n",
    "\n",
    "import thesis_utils.plotting\n",
    "reload(thesis_utils.plotting)\n",
    "from thesis_utils import colours as thesis_colours\n",
    "from thesis_utils.gw import get_cbc_parameter_labels\n",
    "from thesis_utils.gw.quaternions import quaternion_to_euler, quaternion_to_source_angles, euler_to_quaternions\n",
    "from thesis_utils.plotting import (\n",
    "    get_default_corner_kwargs,\n",
    "    set_plotting,\n",
    "    save_figure,\n",
    "    get_default_figsize,\n",
    "    get_corner_figsize,\n",
    "    plot_multiple_bilby,\n",
    ")\n",
    "\n",
    "\n",
    "set_plotting()"
   ]
  },
  {
   "cell_type": "code",
   "execution_count": null,
   "metadata": {},
   "outputs": [],
   "source": [
    "quaternion_result_file = \"outdir/quaternions_2023_03_07_result.json\"\n",
    "default_result_file = \"outdir/defaults_2023_03_07_result.json\""
   ]
  },
  {
   "cell_type": "code",
   "execution_count": null,
   "metadata": {},
   "outputs": [],
   "source": [
    "quaternion_result = bilby.core.result.read_in_result(quaternion_result_file)\n",
    "default_result = bilby.core.result.read_in_result(default_result_file)"
   ]
  },
  {
   "cell_type": "code",
   "execution_count": null,
   "metadata": {},
   "outputs": [],
   "source": [
    "print(\"Quaternions\")\n",
    "print(f\"Log evidence: {quaternion_result.log_evidence} +/- {quaternion_result.log_evidence_err}\")\n",
    "print(f\"Likelihood evaluations: {quaternion_result.num_likelihood_evaluations}\")"
   ]
  },
  {
   "cell_type": "code",
   "execution_count": null,
   "metadata": {},
   "outputs": [],
   "source": [
    "\n",
    "print(f\"Log evidence: {default_result.log_evidence} +/- {default_result.log_evidence_err}\")\n",
    "print(f\"Likelihood evaluations: {default_result.num_likelihood_evaluations}\")"
   ]
  },
  {
   "cell_type": "code",
   "execution_count": null,
   "metadata": {},
   "outputs": [],
   "source": [
    "quaternion_post = quaternion_result.posterior\n",
    "default_post = default_result.posterior"
   ]
  },
  {
   "cell_type": "code",
   "execution_count": null,
   "metadata": {},
   "outputs": [],
   "source": [
    "corner_kwargs = get_default_corner_kwargs()\n",
    "corner_kwargs.pop(\"fill_contours\")\n",
    "corner_kwargs[\"show_titles\"] = False\n",
    "corner_kwargs[\"no_fill_contours\"] = True\n",
    "corner_kwargs[\"plot_datapoints\"] = False\n",
    "corner_kwargs.pop(\"color\")\n",
    "\n",
    "parameters = [p for p in default_result.search_parameter_keys if p != \"geocent_time\"]\n",
    "colours=[thesis_colours.teal, thesis_colours.yellow]\n",
    "labels=[\"Default\", \"Quaternions\"]\n",
    "\n",
    "fig = plot_multiple_bilby(\n",
    "    [default_result, quaternion_result,],\n",
    "    parameters=parameters,\n",
    "    labels=labels,\n",
    "    colours=colours,\n",
    "    corner_labels=get_cbc_parameter_labels(default_result.search_parameter_keys, units=True),\n",
    "    fig=plt.figure(figsize=get_corner_figsize(len(parameters))),\n",
    "    add_legend=False,\n",
    "    labelpad=0.1,\n",
    "    **corner_kwargs,\n",
    ")\n",
    "\n",
    "handles = []\n",
    "for l, c in zip(labels, colours):\n",
    "    handles.append(\n",
    "        Line2D([0], [0], color=c, label=l)\n",
    "    )\n",
    "\n",
    "fig.legend(\n",
    "    handles=handles,\n",
    "    loc=\"center\",\n",
    "    fontsize=14,\n",
    "    bbox_to_anchor=(0.75, 0.75)\n",
    ")\n",
    "# axes = fig.get_axes()\n",
    "# ndim = int(np.sqrt(len(axes)))\n",
    "# axes[ndim - 1].get_legend().remove()\n",
    "save_figure(fig, \"quaternion_posterior_comparison\", \"figures\")"
   ]
  },
  {
   "cell_type": "code",
   "execution_count": null,
   "metadata": {},
   "outputs": [],
   "source": [
    "psi, theta_jn, phase = quaternion_post[\"psi\"], quaternion_post[\"theta_jn\"], quaternion_post[\"phase\"]\n",
    "dphase = np.mod(phase + np.sign(np.cos(theta_jn)) * psi, 2 * np.pi)"
   ]
  },
  {
   "cell_type": "code",
   "execution_count": null,
   "metadata": {},
   "outputs": [],
   "source": [
    "fig = corner.corner(np.array([psi,theta_jn, dphase]).T)"
   ]
  },
  {
   "cell_type": "code",
   "execution_count": null,
   "metadata": {},
   "outputs": [],
   "source": [
    "q_recon = np.array(euler_to_quaternions(psi, theta_jn, phase)).T\n",
    "fig = corner.corner(q_recon)"
   ]
  },
  {
   "cell_type": "code",
   "execution_count": null,
   "metadata": {},
   "outputs": [],
   "source": [
    "q_samples = quaternion_post[[\"q_0\", \"q_1\", \"q_2\", \"q_3\"]].to_numpy()"
   ]
  },
  {
   "cell_type": "code",
   "execution_count": null,
   "metadata": {},
   "outputs": [],
   "source": [
    "q_norm = q_samples / np.sqrt(np.sum(q_samples ** 2, axis=1)[:, np.newaxis])"
   ]
  },
  {
   "cell_type": "code",
   "execution_count": null,
   "metadata": {},
   "outputs": [],
   "source": [
    "kwargs = get_default_corner_kwargs()\n",
    "kwargs[\"no_fill_contours\"] = True\n",
    "kwargs[\"plot_datapoints\"] = False\n",
    "kwargs.pop(\"fill_contours\")\n",
    "kwargs[\"quantiles\"] = []\n",
    "kwargs[\"show_titles\"] = False\n",
    "kwargs[\"color\"] = thesis_colours.teal\n",
    "kwargs[\"hist_kwargs\"][\"color\"] = kwargs[\"color\"]\n",
    "\n",
    "fig = plt.figure(figsize=get_corner_figsize(q_samples.shape[1]))\n",
    "fig = corner.corner(\n",
    "    q_samples,\n",
    "    labels=[fr\"$q_{i}$\" for i in range(4)],\n",
    "    labelpad=0.0,\n",
    "    fig=fig,\n",
    "    **kwargs\n",
    ")\n",
    "save_figure(fig, \"quaternion_posterior\", \"figures\")"
   ]
  },
  {
   "cell_type": "code",
   "execution_count": null,
   "metadata": {},
   "outputs": [],
   "source": [
    "fig = plt.figure(figsize=get_corner_figsize(q_norm.shape[1]))\n",
    "fig = corner.corner(\n",
    "    q_norm,\n",
    "    labels=[fr\"$q_{i}$\" for i in range(4)],\n",
    "    labelpad=-0.0,\n",
    "    fig=fig,\n",
    "    **kwargs\n",
    ")\n",
    "save_figure(fig, \"quaternion_posterior_norm\", \"figures\")"
   ]
  },
  {
   "cell_type": "markdown",
   "metadata": {},
   "source": [
    "## Exploring the parameter\n",
    "\n",
    "Making some plots to prep for my viva."
   ]
  },
  {
   "cell_type": "code",
   "execution_count": null,
   "metadata": {},
   "outputs": [],
   "source": [
    "from sklearn.cluster import KMeans\n",
    "import seaborn as sns"
   ]
  },
  {
   "cell_type": "code",
   "execution_count": null,
   "metadata": {},
   "outputs": [],
   "source": [
    "q_samples[:, [0, -1]]"
   ]
  },
  {
   "cell_type": "code",
   "execution_count": null,
   "metadata": {},
   "outputs": [],
   "source": [
    "kmeans = KMeans(n_clusters=4).fit(q_samples[:, [0, -1]])"
   ]
  },
  {
   "cell_type": "code",
   "execution_count": null,
   "metadata": {},
   "outputs": [],
   "source": [
    "euler_angles = quaternion_to_euler(q_samples)\n",
    "fig = None\n",
    "cluster_colours = sns.color_palette(n_colors=4)\n",
    "for i, colour in enumerate(cluster_colours):\n",
    "    # fig = None\n",
    "    fig = corner.corner(\n",
    "        euler_angles[kmeans.labels_ == i],# % 2 * np.pi,\n",
    "        # labels=[fr\"$q_{i}$\" for i in range(4)],\n",
    "        labelpad=-0.0,\n",
    "        fig=fig,\n",
    "        color=colour,\n",
    "        # **kwargs\n",
    "    )\n",
    "# save_figure(fig, \"quaternion_posterior_norm\", \"figures\")"
   ]
  },
  {
   "cell_type": "code",
   "execution_count": null,
   "metadata": {},
   "outputs": [],
   "source": [
    "source_angles = quaternion_to_source_angles(q_samples)\n",
    "fig = None\n",
    "cluster_colours = sns.color_palette(n_colors=4)\n",
    "for i, colour in enumerate(cluster_colours):\n",
    "    fig = corner.corner(\n",
    "        source_angles[kmeans.labels_ == i],\n",
    "        # labels=[fr\"$q_{i}$\" for i in range(4)],\n",
    "        labelpad=-0.0,\n",
    "        fig=fig,\n",
    "        color=colour,\n",
    "        # **kwargs\n",
    "    )"
   ]
  }
 ],
 "metadata": {
  "kernelspec": {
   "display_name": "thesis-env",
   "language": "python",
   "name": "python3"
  },
  "language_info": {
   "codemirror_mode": {
    "name": "ipython",
    "version": 3
   },
   "file_extension": ".py",
   "mimetype": "text/x-python",
   "name": "python",
   "nbconvert_exporter": "python",
   "pygments_lexer": "ipython3",
   "version": "3.9.16"
  }
 },
 "nbformat": 4,
 "nbformat_minor": 2
}
