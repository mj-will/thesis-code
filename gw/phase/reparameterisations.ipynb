{
 "cells": [
  {
   "cell_type": "code",
   "execution_count": null,
   "metadata": {},
   "outputs": [],
   "source": [
    "import os\n",
    "os.environ[\"bilby_style\"] = \"none\"\n",
    "\n",
    "import bilby\n",
    "import corner\n",
    "import matplotlib.pyplot as plt\n",
    "from nessai.livepoint import dataframe_to_live_points\n",
    "from nessai.plot import corner_plot\n",
    "import numpy as np\n",
    "\n",
    "from nessai import config as nessai_config\n",
    "nessai_config.plotting.disable_style = True\n",
    "\n",
    "from thesis_utils.plotting import get_default_corner_kwargs, save_figure, set_plotting, get_default_figsize, get_corner_figsize\n",
    "from thesis_utils.gw import get_cbc_parameter_labels\n",
    "\n",
    "set_plotting()\n",
    "\n"
   ]
  },
  {
   "cell_type": "code",
   "execution_count": null,
   "metadata": {},
   "outputs": [],
   "source": [
    "result_file = \"outdir/fix-spins/paper_default_no_phase_marg_result.json\""
   ]
  },
  {
   "cell_type": "code",
   "execution_count": null,
   "metadata": {},
   "outputs": [],
   "source": [
    "result = bilby.core.result.read_in_result(result_file)"
   ]
  },
  {
   "cell_type": "code",
   "execution_count": null,
   "metadata": {},
   "outputs": [],
   "source": [
    "labels = [\"phase\", \"psi\", \"theta_jn\"]"
   ]
  },
  {
   "cell_type": "code",
   "execution_count": null,
   "metadata": {},
   "outputs": [],
   "source": [
    "samples = dataframe_to_live_points(result.posterior[labels], non_sampling_parameters=False)"
   ]
  },
  {
   "cell_type": "code",
   "execution_count": null,
   "metadata": {},
   "outputs": [],
   "source": [
    "corner_kwargs = get_default_corner_kwargs()\n",
    "corner_kwargs[\"plot_datapoints\"] = True\n",
    "corner_kwargs[\"fill_contours\"] = False\n",
    "corner_kwargs[\"levels\"] = None\n",
    "corner_kwargs[\"show_titles\"] = False\n",
    "corner_kwargs[\"plot_datapoints\"] = False"
   ]
  },
  {
   "cell_type": "code",
   "execution_count": null,
   "metadata": {},
   "outputs": [],
   "source": [
    "fig = corner_plot(\n",
    "    samples,\n",
    "    labels=get_cbc_parameter_labels(samples.dtype.names),\n",
    "    fig=plt.figure(figsize=get_corner_figsize(len(samples.dtype))),\n",
    "    **corner_kwargs\n",
    ")\n",
    "save_figure(fig, \"source_angles\")"
   ]
  },
  {
   "cell_type": "code",
   "execution_count": null,
   "metadata": {},
   "outputs": [],
   "source": [
    "from nessai.reparameterisations import CombinedReparameterisation\n",
    "from nessai.gw.reparameterisations import get_gw_reparameterisation\n",
    "from nessai.livepoint import empty_structured_array"
   ]
  },
  {
   "cell_type": "code",
   "execution_count": null,
   "metadata": {},
   "outputs": [],
   "source": [
    "default_reparam_dict = {\n",
    "    \"phase\": \"angle-2pi\",\n",
    "    \"psi\": \"angle-pi\",\n",
    "    \"theta_jn\": \"angle-sine\",\n",
    "    \"delta_phase\": \"angle-2pi\",\n",
    "}"
   ]
  },
  {
   "cell_type": "code",
   "execution_count": null,
   "metadata": {},
   "outputs": [],
   "source": [
    "prior_bounds = {\n",
    "    \"phase\": np.array([0, 2 * np.pi]),\n",
    "    \"delta_phase\": np.array([0, 2 * np.pi]),\n",
    "    \"psi\": np.array([0, np.pi]),\n",
    "    \"theta_jn\": np.array([0, np.pi]),\n",
    "}"
   ]
  },
  {
   "attachments": {},
   "cell_type": "markdown",
   "metadata": {},
   "source": [
    "## Defaults"
   ]
  },
  {
   "cell_type": "code",
   "execution_count": null,
   "metadata": {},
   "outputs": [],
   "source": [
    "default_reparam = CombinedReparameterisation()\n",
    "for parameter in labels:\n",
    "    ReparamClass, kwargs = get_gw_reparameterisation(default_reparam_dict.get(parameter))\n",
    "    reparam = ReparamClass(parameters=parameter, prior_bounds=prior_bounds, **kwargs)\n",
    "    default_reparam.add_reparameterisation(reparam)"
   ]
  },
  {
   "cell_type": "code",
   "execution_count": null,
   "metadata": {},
   "outputs": [],
   "source": [
    "x_prime_default = empty_structured_array(samples.size, names=default_reparam.prime_parameters, non_sampling_parameters=False)\n",
    "log_j = np.zeros(samples.size)\n",
    "_, x_prime_default, log_j = default_reparam.reparameterise(samples, x_prime_default, log_j)"
   ]
  },
  {
   "cell_type": "code",
   "execution_count": null,
   "metadata": {},
   "outputs": [],
   "source": [
    "default_reparam.prime_parameters"
   ]
  },
  {
   "cell_type": "code",
   "execution_count": null,
   "metadata": {},
   "outputs": [],
   "source": [
    "fig = corner_plot(\n",
    "    x_prime_default,\n",
    "    labels=[r\"$x_{\\phi_c}$\", r\"$y_{\\phi_c}$\", r\"$x_{\\psi}$\", r\"$y_{\\psi}$\", r\"$\\theta_{JN}'$\"],\n",
    "    fig=plt.figure(figsize=get_corner_figsize(len(x_prime_default.dtype))),\n",
    "    **corner_kwargs\n",
    ")\n",
    "save_figure(fig, \"nessai_angles_default\")"
   ]
  },
  {
   "attachments": {},
   "cell_type": "markdown",
   "metadata": {},
   "source": [
    "## Alpha & beta"
   ]
  },
  {
   "cell_type": "code",
   "execution_count": null,
   "metadata": {},
   "outputs": [],
   "source": [
    "samples_ab = empty_structured_array(samples.size, [\"alpha\", \"beta\", \"theta_jn\"], non_sampling_parameters=False)\n",
    "samples_ab[\"alpha\"] = (samples[\"psi\"] + samples[\"phase\"])#, 2 * np.pi)\n",
    "samples_ab[\"beta\"] = (samples[\"psi\"] - samples[\"phase\"])#, np.pi)\n",
    "samples_ab[\"theta_jn\"] = samples[\"theta_jn\"]\n"
   ]
  },
  {
   "cell_type": "code",
   "execution_count": null,
   "metadata": {},
   "outputs": [],
   "source": [
    "psi = (samples_ab[\"alpha\"] + samples_ab[\"beta\"]) / 2\n",
    "phase = (samples_ab[\"alpha\"] - samples_ab[\"beta\"]) / 2"
   ]
  },
  {
   "cell_type": "code",
   "execution_count": null,
   "metadata": {},
   "outputs": [],
   "source": [
    "fig = plt.figure()\n",
    "plt.hist2d(psi, phase, 30)\n",
    "plt.show()"
   ]
  },
  {
   "cell_type": "code",
   "execution_count": null,
   "metadata": {},
   "outputs": [],
   "source": [
    "fig = corner_plot(\n",
    "    samples_ab,\n",
    "    labels=[r\"$\\alpha$\", r\"$\\beta$\", get_cbc_parameter_labels(\"theta_jn\")],\n",
    "    fig=plt.figure(figsize=get_corner_figsize(len(samples_ab.dtype))),\n",
    "    **corner_kwargs\n",
    ")\n",
    "save_figure(fig, \"alpha_beta\")"
   ]
  },
  {
   "attachments": {},
   "cell_type": "markdown",
   "metadata": {},
   "source": [
    "## Delta phase"
   ]
  },
  {
   "cell_type": "code",
   "execution_count": null,
   "metadata": {},
   "outputs": [],
   "source": [
    "samples_delta_phase = empty_structured_array(samples.size, [\"delta_phase\", \"psi\", \"theta_jn\"], non_sampling_parameters=False)\n",
    "samples_delta_phase[\"psi\"] = samples[\"psi\"]\n",
    "samples_delta_phase[\"theta_jn\"] = samples[\"theta_jn\"]\n",
    "samples_delta_phase[\"delta_phase\"] = samples[\"phase\"] + np.sign(np.cos(samples[\"theta_jn\"])) * samples[\"psi\"]"
   ]
  },
  {
   "cell_type": "code",
   "execution_count": null,
   "metadata": {},
   "outputs": [],
   "source": [
    "dp_reparam = CombinedReparameterisation()\n",
    "for parameter in [\"delta_phase\", \"psi\", \"theta_jn\"]:\n",
    "    ReparamClass, kwargs = get_gw_reparameterisation(default_reparam_dict.get(parameter))\n",
    "    reparam = ReparamClass(parameters=parameter, prior_bounds=prior_bounds, **kwargs)\n",
    "    dp_reparam.add_reparameterisation(reparam)"
   ]
  },
  {
   "cell_type": "code",
   "execution_count": null,
   "metadata": {},
   "outputs": [],
   "source": [
    "dp_reparam"
   ]
  },
  {
   "cell_type": "code",
   "execution_count": null,
   "metadata": {},
   "outputs": [],
   "source": [
    "delta_phase_cart = empty_structured_array(\n",
    "    samples.size,\n",
    "    dp_reparam.prime_parameters,\n",
    ")\n",
    "_, delta_phase_cart, _ = dp_reparam.reparameterise(samples_delta_phase, delta_phase_cart, 0.0)"
   ]
  },
  {
   "cell_type": "code",
   "execution_count": null,
   "metadata": {},
   "outputs": [],
   "source": [
    "phase_re = np.mod(\n",
    "    samples_delta_phase[\"delta_phase\"] - np.sign(np.cos(samples[\"theta_jn\"])) * samples[\"psi\"],\n",
    "    2 * np.pi,\n",
    ")"
   ]
  },
  {
   "cell_type": "code",
   "execution_count": null,
   "metadata": {},
   "outputs": [],
   "source": [
    "fig = corner_plot(\n",
    "    samples_delta_phase,\n",
    "    labels=get_cbc_parameter_labels(samples_delta_phase.dtype.names),\n",
    "    fig=plt.figure(figsize=get_corner_figsize(len(samples_delta_phase.dtype))),\n",
    "    **corner_kwargs\n",
    ")\n",
    "save_figure(fig, \"delta_phase\")"
   ]
  },
  {
   "cell_type": "code",
   "execution_count": null,
   "metadata": {},
   "outputs": [],
   "source": [
    "quaternion_results = bilby.core.result.read_in_result(\"../quaternions/outdir/quaternions_2023_03_07_result.json\")"
   ]
  },
  {
   "cell_type": "code",
   "execution_count": null,
   "metadata": {},
   "outputs": [],
   "source": [
    "from thesis_utils.io import load_hdf5"
   ]
  },
  {
   "cell_type": "code",
   "execution_count": null,
   "metadata": {},
   "outputs": [],
   "source": [
    "names = [\"phase\", \"psi\", \"theta_jn\", \"delta_phase\", \"q_0\", \"q_1\", \"q_2\", \"q_3\"]\n",
    "samples_all = empty_structured_array(len(quaternion_results.posterior), names)\n",
    "for name in names:\n",
    "    if name in quaternion_results.posterior:\n",
    "        samples_all[name] = quaternion_results.posterior[name]"
   ]
  },
  {
   "cell_type": "code",
   "execution_count": null,
   "metadata": {},
   "outputs": [],
   "source": [
    "samples_all[\"delta_phase\"] = samples_all[\"phase\"] + np.sign(np.cos(samples_all[\"theta_jn\"])) * samples_all[\"psi\"]"
   ]
  },
  {
   "cell_type": "code",
   "execution_count": null,
   "metadata": {},
   "outputs": [],
   "source": [
    "quat_nessai[\"posterior_samples\"]"
   ]
  },
  {
   "cell_type": "code",
   "execution_count": null,
   "metadata": {},
   "outputs": [],
   "source": [
    "corner_plot(samples_all, **corner_kwargs)"
   ]
  },
  {
   "cell_type": "code",
   "execution_count": null,
   "metadata": {},
   "outputs": [],
   "source": []
  }
 ],
 "metadata": {
  "kernelspec": {
   "display_name": "thesis-env",
   "language": "python",
   "name": "python3"
  },
  "language_info": {
   "codemirror_mode": {
    "name": "ipython",
    "version": 3
   },
   "file_extension": ".py",
   "mimetype": "text/x-python",
   "name": "python",
   "nbconvert_exporter": "python",
   "pygments_lexer": "ipython3",
   "version": "3.9.13"
  }
 },
 "nbformat": 4,
 "nbformat_minor": 2
}
