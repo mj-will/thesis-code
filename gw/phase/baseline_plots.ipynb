{
 "cells": [
  {
   "cell_type": "code",
   "execution_count": null,
   "metadata": {},
   "outputs": [],
   "source": [
    "import os\n",
    "os.environ[\"bilby_style\"] = \"none\"\n",
    "\n",
    "\n",
    "import bilby\n",
    "import corner\n",
    "import matplotlib.pyplot as plt\n",
    "from matplotlib.lines import Line2D\n",
    "import numpy as np\n",
    "import seaborn as sns\n",
    "from scipy import stats\n",
    "\n",
    "from thesis_utils.gw import get_cbc_parameter_labels\n",
    "from thesis_utils.plotting import (\n",
    "    set_plotting, save_figure,\n",
    "    get_default_figsize,\n",
    "    get_default_corner_kwargs,\n",
    "    plot_acceptance,\n",
    "    get_corner_figsize,\n",
    "    plot_multiple_bilby,\n",
    ")\n",
    "from thesis_utils.io import load_pickle\n",
    "import thesis_utils.colours as thesis_colours\n",
    "\n",
    "set_plotting()"
   ]
  },
  {
   "cell_type": "code",
   "execution_count": null,
   "metadata": {},
   "outputs": [],
   "source": [
    "result_marg = bilby.core.result.read_in_result(\"outdir/paper_default_phase_marg_result.json\")"
   ]
  },
  {
   "cell_type": "code",
   "execution_count": null,
   "metadata": {},
   "outputs": [],
   "source": [
    "ns_marg = load_pickle(\"outdir/paper_default_phase_marg_nessai/nested_sampler_resume.pkl\")"
   ]
  },
  {
   "cell_type": "code",
   "execution_count": null,
   "metadata": {},
   "outputs": [],
   "source": [
    "\n",
    "result = bilby.core.result.read_in_result(\"outdir/paper_default_no_phase_marg_result.json\")"
   ]
  },
  {
   "cell_type": "code",
   "execution_count": null,
   "metadata": {},
   "outputs": [],
   "source": [
    "ns = load_pickle(\"outdir/paper_default_no_phase_marg_nessai/nested_sampler_resume.pkl\")"
   ]
  },
  {
   "cell_type": "code",
   "execution_count": null,
   "metadata": {},
   "outputs": [],
   "source": [
    "figsize = get_default_figsize()\n",
    "figsize[1] *= 1.3\n",
    "fig = plot_acceptance([ns_marg, ns], figsize=figsize)\n",
    "save_figure(fig, \"phase_baseline_diagnostics\")"
   ]
  },
  {
   "cell_type": "code",
   "execution_count": null,
   "metadata": {},
   "outputs": [],
   "source": [
    "corner_kwargs = get_default_corner_kwargs()\n",
    "corner_kwargs.pop(\"fill_contours\")\n",
    "corner_kwargs[\"show_titles\"] = False\n",
    "corner_kwargs[\"no_fill_contours\"] = True\n",
    "corner_kwargs[\"plot_datapoints\"] = False\n",
    "corner_kwargs.pop(\"color\")\n",
    "\n",
    "parameters = [\"chirp_mass\", \"mass_ratio\", \"a_1\", \"a_2\", \"ra\", \"dec\", \"theta_jn\", \"phase\", \"psi\"]\n",
    "colours=[thesis_colours.teal, thesis_colours.yellow]\n",
    "labels=[\"With phase marg.\", \"Without phase marg.\"]\n",
    "\n",
    "fig = plot_multiple_bilby(\n",
    "    [result_marg, result,],\n",
    "    parameters=parameters,\n",
    "    labels=labels,\n",
    "    colours=colours,\n",
    "    corner_labels=get_cbc_parameter_labels(parameters, units=True),\n",
    "    fig=plt.figure(figsize=0.85 * get_corner_figsize(len(parameters))),\n",
    "    add_legend=False,\n",
    "    labelpad=0.1,\n",
    "    **corner_kwargs,\n",
    ")\n",
    "\n",
    "handles = []\n",
    "for l, c in zip(labels, colours):\n",
    "    handles.append(\n",
    "        Line2D([0], [0], color=c, label=l)\n",
    "    )\n",
    "\n",
    "fig.legend(\n",
    "    handles=handles,\n",
    "    loc=\"center\",\n",
    "    fontsize=14,\n",
    "    bbox_to_anchor=(0.75, 0.75)\n",
    ")\n",
    "# axes = fig.get_axes()\n",
    "# ndim = int(np.sqrt(len(axes)))\n",
    "# axes[ndim - 1].get_legend().remove()\n",
    "save_figure(fig, \"phase_baseline_corner\", \"figures\")"
   ]
  },
  {
   "attachments": {},
   "cell_type": "markdown",
   "metadata": {},
   "source": [
    "## Insertion indices"
   ]
  },
  {
   "cell_type": "code",
   "execution_count": null,
   "metadata": {},
   "outputs": [],
   "source": [
    "indices_marg = np.array(ns_marg.insertion_indices)\n",
    "indices_wo_marg = np.array(ns.insertion_indices)"
   ]
  },
  {
   "cell_type": "code",
   "execution_count": null,
   "metadata": {},
   "outputs": [],
   "source": [
    "indices = [indices_marg, indices_wo_marg]"
   ]
  },
  {
   "cell_type": "code",
   "execution_count": null,
   "metadata": {},
   "outputs": [],
   "source": [
    "linestyles = {\n",
    "    \"low_spin\": \"--\",\n",
    "    \"high_spin\": \"-\",\n",
    "}\n",
    "\n",
    "nlive = 2000\n",
    "bins = np.arange(0, nlive+1, 20)\n",
    "nbins = len(bins)\n",
    "\n",
    "x = np.arange(0, nlive, 1)\n",
    "analytic = x / x[-1]\n",
    "\n",
    "figsize = get_default_figsize()\n",
    "figsize[1] *= 1.2\n",
    "fig, axs = plt.subplots(2, 2, figsize=figsize, sharex=True, sharey=\"col\")\n",
    "\n",
    "for j, idx in enumerate(indices):\n",
    "\n",
    "    n = len(idx)\n",
    "    axs[j, 0].hist(idx, bins=bins, density=True, histtype=\"step\", color=f\"C{j}\")\n",
    "    axs[j, 0].axhline(1 / nlive, zorder=-1, color=\"grey\")\n",
    "    axs[j, 0].set_ylabel(\"Density\")\n",
    "    \n",
    "    _, counts = np.unique(idx, return_counts=True)\n",
    "    estimated = np.cumsum(counts) / len(idx)\n",
    "    axs[j, 1].plot(analytic - estimated, ls=\"-\", c=f\"C{j}\")\n",
    "\n",
    "    for ci in [0.5, 0.95, 0.997]:\n",
    "        bound = (1 - ci) / 2\n",
    "        bound_values = stats.binom.ppf(1 - bound, n, analytic) / n\n",
    "        lower = (bound_values - analytic)\n",
    "        upper = (analytic - bound_values)\n",
    "        upper[0] = 0\n",
    "        upper[-1] = 0\n",
    "        lower[0] = 0\n",
    "        lower[-1] = 0\n",
    "\n",
    "        axs[j, 1].fill_between(x, lower, upper, color=\"grey\", alpha=0.2)\n",
    "\n",
    "    axs[j, 1].set_xlim(0, nlive-1)\n",
    "    axs[j, 1].set_ylabel(\"Analytic CMF -\\n Empirical CMF\")\n",
    "\n",
    "\n",
    "axs[-1, 0].set_xlabel(\"Insertion index\")\n",
    "axs[-1, 1].set_xlabel(\"Insertion index\")\n",
    "\n",
    "axs[0, 0].set_title(r\"\\textbf{With phase marg.}\", loc=\"left\", x=-0.3, pad=12)\n",
    "axs[1, 0].set_title(r\"\\textbf{Without phase marg.}\", loc=\"left\", x=-0.3, pad=12)\n",
    "\n",
    "\n",
    "plt.tight_layout()\n",
    "\n",
    "save_figure(fig, \"phase_insertion_indices\")"
   ]
  },
  {
   "cell_type": "code",
   "execution_count": null,
   "metadata": {},
   "outputs": [],
   "source": []
  }
 ],
 "metadata": {
  "kernelspec": {
   "display_name": "thesis-env",
   "language": "python",
   "name": "python3"
  },
  "language_info": {
   "codemirror_mode": {
    "name": "ipython",
    "version": 3
   },
   "file_extension": ".py",
   "mimetype": "text/x-python",
   "name": "python",
   "nbconvert_exporter": "python",
   "pygments_lexer": "ipython3",
   "version": "3.9.13"
  }
 },
 "nbformat": 4,
 "nbformat_minor": 2
}
