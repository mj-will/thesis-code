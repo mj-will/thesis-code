{
 "cells": [
  {
   "cell_type": "code",
   "execution_count": null,
   "id": "f1e13edc-95cb-48f1-b7d6-d6d4ed2a4378",
   "metadata": {
    "tags": []
   },
   "outputs": [],
   "source": [
    "import glob\n",
    "import os\n",
    "\n",
    "os.environ[\"PATH\"] = os.pathsep.join((\"/usr/local/texlive/2023/bin/x86_64-linux\", os.environ[\"PATH\"]))\n",
    "os.environ[\"BILBY_STYLE\"] = \"none\"\n",
    "\n",
    "import bilby\n",
    "import seaborn as sns\n",
    "import corner\n",
    "import matplotlib as mpl\n",
    "import matplotlib.pyplot as plt\n",
    "from natsort import natsorted\n",
    "import numpy as np\n",
    "import tqdm\n",
    "import h5py\n",
    "\n",
    "import thesis_utils\n",
    "from thesis_utils.gw import get_cbc_parameter_labels\n",
    "from thesis_utils.plotting import (\n",
    "    set_plotting,\n",
    "    get_default_figsize,\n",
    "    save_figure,\n",
    "    get_default_figsize,\n",
    "    make_pp_plot_bilby_results,\n",
    ")\n",
    "from thesis_utils.io import load_json\n",
    "from thesis_utils import colours as thesis_colours\n",
    "\n",
    "# import os\n",
    "\n",
    "set_plotting()\n",
    "# plt.rcParams[\"text.usetex\"] = False\n",
    "\n",
    "from pp_plot import make_pp_plot\n",
    "\n",
    "from importlib import reload\n",
    "reload(thesis_utils)"
   ]
  },
  {
   "cell_type": "code",
   "execution_count": null,
   "id": "4a73504a-abaa-4dfe-8aa3-d0bd29bd6c5a",
   "metadata": {
    "tags": []
   },
   "outputs": [],
   "source": [
    "path = \"outdir_nessai_mass_ratio_rerun/\"\n",
    "path_cvm = \"outdir_nessai_cmv/\"\n",
    "path_marg = \"outdir_nessai_phase_marg/\"\n"
   ]
  },
  {
   "cell_type": "code",
   "execution_count": null,
   "id": "2172c4bc-1757-412e-b44f-c287ff3478c2",
   "metadata": {
    "tags": []
   },
   "outputs": [],
   "source": [
    "result_files = natsorted(glob.glob(path + \"/result/*_result.hdf5\"))\n",
    "cvm_result_files = natsorted(glob.glob(path_cvm + \"/result/*_result.hdf5\"))\n",
    "marg_result_files = natsorted(glob.glob(path_marg + \"/result/*_result.hdf5\"))"
   ]
  },
  {
   "cell_type": "code",
   "execution_count": null,
   "id": "47b6b140-5328-46af-b396-4b7cb59576ae",
   "metadata": {
    "tags": []
   },
   "outputs": [],
   "source": [
    "results = []\n",
    "for rf in tqdm.tqdm(result_files):\n",
    "    results.append(bilby.core.result.read_in_result(rf))"
   ]
  },
  {
   "cell_type": "code",
   "execution_count": null,
   "id": "013f83ed-da72-4ade-80a4-8a87ded19586",
   "metadata": {
    "tags": []
   },
   "outputs": [],
   "source": [
    "marg_results = []\n",
    "for rf in tqdm.tqdm(marg_result_files):\n",
    "    marg_results.append(bilby.core.result.read_in_result(rf))"
   ]
  },
  {
   "cell_type": "code",
   "execution_count": null,
   "id": "fec19301",
   "metadata": {},
   "outputs": [],
   "source": [
    "cvm_results = []\n",
    "for rf in tqdm.tqdm(cvm_result_files):\n",
    "    cvm_results.append(bilby.core.result.read_in_result(rf))"
   ]
  },
  {
   "cell_type": "code",
   "execution_count": null,
   "id": "76ee9aa2-6f8d-41b6-a4d5-d6364835fbba",
   "metadata": {
    "tags": []
   },
   "outputs": [],
   "source": [
    "parameters = results[0].search_parameter_keys\n",
    "labels = {p : get_cbc_parameter_labels(p, units=False) for p in parameters}"
   ]
  },
  {
   "cell_type": "code",
   "execution_count": null,
   "id": "ac6a930d-377a-4527-bacb-8fed34c11efa",
   "metadata": {
    "tags": []
   },
   "outputs": [],
   "source": [
    "figsize = get_default_figsize()\n",
    "figsize[1] = figsize[0]\n",
    "figsize /= 1.5"
   ]
  },
  {
   "cell_type": "code",
   "execution_count": null,
   "id": "f0c0b4d4-4372-44d3-bf5c-81a64348c1f5",
   "metadata": {
    "tags": []
   },
   "outputs": [],
   "source": [
    "fig, pvals = make_pp_plot_bilby_results(\n",
    "    results,\n",
    "    labels=labels,\n",
    "    width=figsize[0],\n",
    "    height=figsize[0],\n",
    "    colours=['#d73027','#fc8d59','#fee090','#91bfdb','#4575b4'],\n",
    "    \n",
    ")\n",
    "fig.savefig(\"figures/pp_plot_spins.pdf\")"
   ]
  },
  {
   "cell_type": "code",
   "execution_count": null,
   "id": "aae69462-1fd9-483a-97c0-ad452e472629",
   "metadata": {
    "tags": []
   },
   "outputs": [],
   "source": [
    "fig, pvals = make_pp_plot_bilby_results(\n",
    "    marg_results,\n",
    "    labels=labels,\n",
    "    width=figsize[0],\n",
    "    height=figsize[0],\n",
    "    colours=['#d73027','#fc8d59','#fee090','#91bfdb','#4575b4'],\n",
    "    \n",
    ")\n",
    "fig.savefig(\"figures/pp_plot_marg.pdf\")"
   ]
  },
  {
   "cell_type": "code",
   "execution_count": null,
   "id": "7b7535e3",
   "metadata": {},
   "outputs": [],
   "source": [
    "fig, pvals = make_pp_plot_bilby_results(\n",
    "    cvm_results,\n",
    "    labels=labels,\n",
    "    width=figsize[0],\n",
    "    height=figsize[0],\n",
    "    colours=['#d73027','#fc8d59','#fee090','#91bfdb','#4575b4'],\n",
    "    \n",
    ")\n",
    "fig.savefig(\"figures/pp_plot_cvm.pdf\")"
   ]
  },
  {
   "cell_type": "code",
   "execution_count": null,
   "id": "29c5afbc-e64e-47bb-9fc1-fd4f81d9caea",
   "metadata": {
    "tags": []
   },
   "outputs": [],
   "source": [
    "snrs = np.array([[ifo[\"optimal_SNR\"] for ifo in r.meta_data[\"likelihood\"][\"interferometers\"].values()] for r in results])"
   ]
  },
  {
   "cell_type": "code",
   "execution_count": null,
   "id": "0660db0d-b3c8-466f-b640-1555720c502e",
   "metadata": {
    "tags": []
   },
   "outputs": [],
   "source": [
    "network_snrs = np.sqrt((snrs ** 2).sum(axis=1))"
   ]
  },
  {
   "cell_type": "code",
   "execution_count": null,
   "id": "d856cd9e-150f-4118-a3b3-70cfd01d5fd4",
   "metadata": {
    "tags": []
   },
   "outputs": [],
   "source": [
    "nessai_results_files = natsorted(glob.glob(path + \"/result/*_nessai/result.hdf5\"))\n",
    "marg_nessai_results_files = natsorted(glob.glob(path_marg + \"/result/*_nessai/result.hdf5\"))"
   ]
  },
  {
   "cell_type": "code",
   "execution_count": null,
   "id": "176599af-6424-4b9d-af9f-2a1b31146ac0",
   "metadata": {
    "tags": []
   },
   "outputs": [],
   "source": [
    "nessai_results = dict(evaluations=[], log_evidence=[], sampling_time=[], population_time=[], likelihood_time=[], training_time=[])\n",
    "for rf in nessai_results_files:\n",
    "    with h5py.File(rf, \"r\") as f:\n",
    "        nessai_results[\"evaluations\"].append(f[\"total_likelihood_evaluations\"][()])\n",
    "        nessai_results[\"log_evidence\"].append(f[\"log_evidence\"][()])\n",
    "        nessai_results[\"sampling_time\"].append(f[\"sampling_time\"][()])\n",
    "        nessai_results[\"population_time\"].append(f[\"population_time\"][()])\n",
    "        nessai_results[\"likelihood_time\"].append(f[\"likelihood_evaluation_time\"][()])\n",
    "        nessai_results[\"training_time\"].append(f[\"training_time\"][()])\n",
    "nessai_results = {k: np.array(v) for k, v in nessai_results.items()}"
   ]
  },
  {
   "cell_type": "code",
   "execution_count": null,
   "id": "61fb74be-c2a2-404a-9d2b-db4a990145fd",
   "metadata": {},
   "outputs": [],
   "source": [
    "marg_nessai_results = dict(evaluations=[], log_evidence=[], sampling_time=[], population_time=[], likelihood_time=[], training_time=[])\n",
    "for rf in marg_nessai_results_files:\n",
    "    with h5py.File(rf, \"r\") as f:\n",
    "        marg_nessai_results[\"evaluations\"].append(f[\"total_likelihood_evaluations\"][()])\n",
    "        marg_nessai_results[\"log_evidence\"].append(f[\"log_evidence\"][()])\n",
    "        marg_nessai_results[\"sampling_time\"].append(f[\"sampling_time\"][()])\n",
    "        marg_nessai_results[\"population_time\"].append(f[\"population_time\"][()])\n",
    "        marg_nessai_results[\"likelihood_time\"].append(f[\"likelihood_evaluation_time\"][()])\n",
    "        marg_nessai_results[\"training_time\"].append(f[\"training_time\"][()])\n",
    "marg_nessai_results = {k: np.array(v) for k, v in marg_nessai_results.items()}"
   ]
  },
  {
   "cell_type": "code",
   "execution_count": null,
   "id": "b3b8790d-614d-4b25-a787-a73426e30964",
   "metadata": {
    "tags": []
   },
   "outputs": [],
   "source": [
    "half_figsize = get_default_figsize()\n",
    "half_figsize *= 0.5"
   ]
  },
  {
   "cell_type": "code",
   "execution_count": null,
   "id": "d9d039eb-5019-4337-b87d-7de839e0623f",
   "metadata": {
    "tags": []
   },
   "outputs": [],
   "source": [
    "fig, ax = plt.subplots(figsize=half_figsize)\n",
    "plt.scatter(\n",
    "    nessai_results[\"sampling_time\"] / 3600,\n",
    "    nessai_results[\"evaluations\"],\n",
    "    c=network_snrs,\n",
    "    cmap=\"cividis\",\n",
    ")\n",
    "plt.xlabel(\"Wall time [hrs]\")\n",
    "plt.ylabel(\"Likelihood evaluations\")\n",
    "# plt.yscale(\"log\")\n",
    "plt.colorbar(label=\"SNR\")\n",
    "# ax.ticklabel_format(useOffset=False)\n",
    "save_figure(fig, \"phase_stats\", bbox_inches=None)\n",
    "plt.show()\n",
    "\n",
    "ax_pos = ax.get_position().bounds\n",
    "\n",
    "fig, ax = plt.subplots(figsize=half_figsize)\n",
    "plt.scatter(\n",
    "    nessai_results[\"sampling_time\"] / marg_nessai_results[\"sampling_time\"],\n",
    "    nessai_results[\"evaluations\"] / marg_nessai_results[\"evaluations\"],\n",
    "    c=network_snrs,\n",
    "    cmap=\"cividis\",\n",
    ")\n",
    "plt.xlabel(\"Wall time ratio\")\n",
    "plt.ylabel(\"Likelihood evaluations\\nratio\")\n",
    "plt.colorbar(label=\"SNR\")\n",
    "ax.set_position(ax_pos)\n",
    "save_figure(fig, \"phase_comparison\", bbox_inches=None)\n",
    "plt.show()"
   ]
  },
  {
   "cell_type": "code",
   "execution_count": null,
   "id": "6a598c27-f42a-4760-bfb1-c6bb279e485c",
   "metadata": {
    "tags": []
   },
   "outputs": [],
   "source": []
  },
  {
   "cell_type": "code",
   "execution_count": null,
   "id": "b328e1d9-eeb9-4a62-bac1-46c202af8d46",
   "metadata": {
    "tags": []
   },
   "outputs": [],
   "source": [
    "np.median(nessai_results[\"evaluations\"] / marg_nessai_results[\"evaluations\"])"
   ]
  },
  {
   "cell_type": "code",
   "execution_count": null,
   "id": "4388a152-108d-4058-9da7-7be5e0fe694a",
   "metadata": {
    "tags": []
   },
   "outputs": [],
   "source": [
    "np.median(nessai_results[\"evaluations\"])"
   ]
  },
  {
   "cell_type": "code",
   "execution_count": null,
   "id": "31d43e25-b984-46ec-b13e-56d0ae2b16d8",
   "metadata": {
    "tags": []
   },
   "outputs": [],
   "source": [
    "pop_fraction = (nessai_results[\"population_time\"] - nessai_results[\"likelihood_time\"]) / nessai_results[\"sampling_time\"]\n",
    "likelihood_fraction = nessai_results[\"likelihood_time\"] / nessai_results[\"sampling_time\"]\n",
    "train_fraction = nessai_results[\"training_time\"] / nessai_results[\"sampling_time\"]"
   ]
  },
  {
   "cell_type": "code",
   "execution_count": null,
   "id": "2697a353-3750-4f5b-b2e0-58c69713f402",
   "metadata": {
    "tags": []
   },
   "outputs": [],
   "source": [
    "np.mean(train_fraction)"
   ]
  },
  {
   "cell_type": "code",
   "execution_count": null,
   "id": "de0402d3-7a0f-434c-8fb5-7cef76ed3ad0",
   "metadata": {
    "tags": []
   },
   "outputs": [],
   "source": [
    "kwargs = dict(\n",
    "    histtype=\"step\",\n",
    "    lw=2.0,\n",
    ")\n",
    "fig = plt.figure(figsize=half_figsize)\n",
    "plt.hist(pop_fraction, label=\"Population\", **kwargs)\n",
    "plt.hist(likelihood_fraction, label=\"Likelihood\", **kwargs)\n",
    "plt.xlabel(\"Fraction of wall time\")\n",
    "plt.legend()\n",
    "save_figure(fig, \"phase_time_fraction\")\n",
    "plt.show()"
   ]
  },
  {
   "cell_type": "code",
   "execution_count": null,
   "id": "d542a573-732a-40bf-a94d-9cc40c8ad8c0",
   "metadata": {},
   "outputs": [],
   "source": []
  }
 ],
 "metadata": {
  "kernelspec": {
   "display_name": "Python 3",
   "language": "python",
   "name": "python3"
  },
  "language_info": {
   "codemirror_mode": {
    "name": "ipython",
    "version": 3
   },
   "file_extension": ".py",
   "mimetype": "text/x-python",
   "name": "python",
   "nbconvert_exporter": "python",
   "pygments_lexer": "ipython3",
   "version": "3.9.16"
  }
 },
 "nbformat": 4,
 "nbformat_minor": 5
}
