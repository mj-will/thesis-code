{
 "cells": [
  {
   "cell_type": "code",
   "execution_count": null,
   "metadata": {},
   "outputs": [],
   "source": [
    "import matplotlib.pyplot as plt\n",
    "import numpy as np\n",
    "from nessai.utils import rolling_mean\n",
    "from scipy import stats\n",
    "\n",
    "from thesis_utils.plotting import set_plotting, save_figure, get_default_figsize\n",
    "from thesis_utils.io import load_pickle\n",
    "\n",
    "set_plotting()"
   ]
  },
  {
   "attachments": {},
   "cell_type": "markdown",
   "metadata": {},
   "source": [
    "## Comparison plot\n",
    "\n",
    "Previous version used runs labelled `v13`"
   ]
  },
  {
   "cell_type": "code",
   "execution_count": null,
   "metadata": {},
   "outputs": [],
   "source": [
    "runs = {\n",
    "    \"default\": \"outdir/paper_default_no_phase_marg_nessai/nested_sampler_resume.pkl\",\n",
    "    # \"default\": \"outdir/gw_v13_nessai/nested_sampler_resume.pkl\",\n",
    "    # \"alpha-beta\": \"outdir/alpha_beta_nessai/nested_sampler_resume.pkl\",\n",
    "    \"delta-phase\": \"outdir/delta_phase_nessai/nested_sampler_resume.pkl\",\n",
    "    # \"delta-phase-bilby\": \"outdir/delta_phase_bilby_nessai/nested_sampler_resume.pkl\",\n",
    "    # \"order\": \"outdir/defaults_order_nessai/nested_sampler_resume.pkl\",\n",
    "    #\"quaternions_spins\": \"outdir/quaternions_spins_nessai/nested_sampler_resume.pkl\",\n",
    "    \"quaternions\": \"outdir/quaternions_default_nessai/nested_sampler_resume.pkl\",\n",
    "    # \"gw_v6\": \"outdir/gw_v6_nessai/nested_sampler_resume.pkl\",\n",
    "    #\"no_gw_v2\": \"outdir/no_gw_v1_nessai/nested_sampler_resume.pkl\",\n",
    "    # \"quaternions\": \"outdir/gw_v13_quaternions_nessai/nested_sampler_resume.pkl\",\n",
    "    # \"delta-phase\": \"outdir/gw_v13_delta_phase_nessai/nested_sampler_resume.pkl\",\n",
    "    \"no-gw\": \"outdir/no_gw_v1_nessai/nested_sampler_resume.pkl\",\n",
    "    \"spins\": \"outdir/gw_v18_nessai/nested_sampler_resume.pkl\",\n",
    "}"
   ]
  },
  {
   "attachments": {},
   "cell_type": "markdown",
   "metadata": {},
   "source": [
    "runs = {\n",
    "    \"default\": \"outdir/fix-spins/paper_default_phase_marg_nessai/nested_sampler_resume.pkl\",\n",
    "    \"no_marg\": \"outdir/fix-spins/paper_default_no_phase_marg_nessai/nested_sampler_resume.pkl\",\n",
    "    \"quaterions\": \"outdir/fix-spins/quaternions_default_nessai/nested_sampler_resume.pkl\",\n",
    "    \"no_gw_v2\": \"outdir/no_gw_v2_nessai/nested_sampler_resume.pkl\",\n",
    "}"
   ]
  },
  {
   "cell_type": "code",
   "execution_count": null,
   "metadata": {},
   "outputs": [],
   "source": [
    "labels = {\n",
    "    \"default\": \"Default\",\n",
    "    \"default-other\": \"Default\",\n",
    "    \"alpha-beta\": r\"$(\\alpha, \\beta)$\",\n",
    "    \"delta-phase\": r\"$\\Delta\\phi$\",\n",
    "    \"no-gw\": \"No GW\",\n",
    "    \"quaternions\": \"Quaternions\",\n",
    "    \"spins\": \"Spins\",\n",
    "}"
   ]
  },
  {
   "cell_type": "code",
   "execution_count": null,
   "metadata": {},
   "outputs": [],
   "source": [
    "samplers = {}\n",
    "for name, path in runs.items():\n",
    "    samplers[name] = load_pickle(path)"
   ]
  },
  {
   "cell_type": "code",
   "execution_count": null,
   "metadata": {},
   "outputs": [],
   "source": [
    "ls = [\"-\", \"--\", \"-.\", ':', '-', \"--\"]"
   ]
  },
  {
   "cell_type": "code",
   "execution_count": null,
   "metadata": {},
   "outputs": [],
   "source": [
    "figsize = get_default_figsize()\n",
    "figsize[1] *= 1.3\n",
    "fig, axs = plt.subplots(4, 1, sharex=True, figsize=figsize)\n",
    "\n",
    "for i, (name, ns) in enumerate(samplers.items()):\n",
    "    it = (np.arange(len(ns.min_likelihood))) * (ns.nlive // 10)\n",
    "    dtrain = np.array(ns.training_iterations[1:]) - np.array(ns.training_iterations[:-1])\n",
    "    axs[0].plot(it, rolling_mean(ns.mean_acceptance_history, 16), ls=ls[i])\n",
    "    axs[1].plot(\n",
    "        ns.training_iterations,\n",
    "        np.arange(len(ns.training_iterations)),\n",
    "        ls=ls[i]\n",
    "    )\n",
    "    axs[2].plot(ns.training_iterations[1:], rolling_mean(dtrain, 16), ls=ls[i])\n",
    "\n",
    "    axs[3].plot(ns.population_iterations, rolling_mean(ns.population_acceptance, 16), ls=ls[i], label=labels.get(name, name))\n",
    "\n",
    "axs[0].set_ylim([5e-4, 1])\n",
    "axs[0].set_yscale(\"log\")\n",
    "axs[0].set_ylabel(\"Acceptance\")\n",
    "\n",
    "axs[1].set_ylim(0, 8000)\n",
    "\n",
    "axs[1].set_ylabel(\"Cumulative \\ntraining count\")\n",
    "\n",
    "axs[2].set_ylabel(\"Iterations \\nbetween training\")\n",
    "axs[2].set_yscale(\"log\")\n",
    "# axs[2].set_ylim(top=2000)\n",
    "\n",
    "axs[3].set_yscale(\"log\")\n",
    "axs[3].set_ylim(top=1e-2)\n",
    "axs[3].set_ylabel(\"Rejection sampling \\nacceptance\")\n",
    "\n",
    "# for ax in axs:\n",
    "#     ax.fill_betweenx(\n",
    "#         y=ax.get_ylim(),\n",
    "#         x1=0,\n",
    "#         x2=ns.training_iterations[0],\n",
    "#         alpha=0.25,\n",
    "#         zorder=-1,\n",
    "#         color=\"gray\",\n",
    "#         lw=0.0\n",
    "#     )\n",
    "#     ax.set_xlim([0, 75_000])\n",
    "\n",
    "axs[-1].set_xlabel(\"Iteration\")\n",
    "\n",
    "axs[-1].legend(ncol=len(samplers), loc=\"center\", bbox_to_anchor=(0.45, -0.55))\n",
    "plt.tight_layout()\n",
    "save_figure(fig, \"phase_comparison_diagnostics\", \"figures\")\n",
    "plt.show()"
   ]
  },
  {
   "cell_type": "code",
   "execution_count": null,
   "metadata": {},
   "outputs": [],
   "source": [
    "indices = {}\n",
    "include = [\"default\", \"delta-phase\", \"quaternions\"]\n",
    "for key, ns in samplers.items():\n",
    "    if key in include:\n",
    "        indices[key] = np.array(ns.insertion_indices)"
   ]
  },
  {
   "cell_type": "code",
   "execution_count": null,
   "metadata": {},
   "outputs": [],
   "source": [
    "nlive = 2000\n",
    "bins = np.arange(0, nlive+1, 20)\n",
    "nbins = len(bins)\n",
    "\n",
    "x = np.arange(0, nlive, 1)\n",
    "analytic = x / x[-1]\n",
    "\n",
    "figsize = get_default_figsize()\n",
    "# figsize[1] *= 1.2\n",
    "fig, axs = plt.subplots(1, 1, figsize=figsize)\n",
    "\n",
    "ls = [\"-\", \"--\", \"-.\"]\n",
    "\n",
    "n = np.min([len(idx) for idx in indices.values()])\n",
    "\n",
    "for j, (key, idx) in enumerate(indices.items()):\n",
    "    _, counts = np.unique(idx, return_counts=True)\n",
    "    estimated = np.cumsum(counts) / len(idx)\n",
    "    axs.plot(analytic - estimated, ls=ls[j], c=f\"C{j}\", label=labels.get(key))\n",
    "\n",
    "for ci in [0.5, 0.95, 0.997]:\n",
    "    bound = (1 - ci) / 2\n",
    "    bound_values = stats.binom.ppf(1 - bound, n, analytic) / n\n",
    "    lower = (bound_values - analytic)\n",
    "    upper = (analytic - bound_values)\n",
    "    upper[0] = 0\n",
    "    upper[-1] = 0\n",
    "    lower[0] = 0\n",
    "    lower[-1] = 0\n",
    "\n",
    "    axs.fill_between(x, lower, upper, color=\"grey\", alpha=0.2)\n",
    "\n",
    "axs.set_xlim(0, nlive-1)\n",
    "axs.set_xlabel(\"Insertion index\")\n",
    "axs.set_ylabel(\"Analytic CMF - Empirical CMF\")\n",
    "plt.tight_layout()\n",
    "plt.legend()\n",
    "\n",
    "save_figure(fig, \"phase_reparams_insertion_indices\")"
   ]
  },
  {
   "cell_type": "code",
   "execution_count": null,
   "metadata": {},
   "outputs": [],
   "source": []
  }
 ],
 "metadata": {
  "kernelspec": {
   "display_name": "thesis-env",
   "language": "python",
   "name": "python3"
  },
  "language_info": {
   "codemirror_mode": {
    "name": "ipython",
    "version": 3
   },
   "file_extension": ".py",
   "mimetype": "text/x-python",
   "name": "python",
   "nbconvert_exporter": "python",
   "pygments_lexer": "ipython3",
   "version": "3.9.13"
  }
 },
 "nbformat": 4,
 "nbformat_minor": 2
}
