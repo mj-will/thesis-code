{
 "cells": [
  {
   "cell_type": "code",
   "execution_count": null,
   "metadata": {},
   "outputs": [],
   "source": [
    "import matplotlib.pyplot as plt\n",
    "import torch\n",
    "\n",
    "from thesis_utils.plotting import (\n",
    "    save_figure,\n",
    "    set_plotting,\n",
    ")\n",
    "from thesis_utils.random import seed_everything\n",
    "\n",
    "seed_everything()\n",
    "set_plotting()"
   ]
  },
  {
   "attachments": {},
   "cell_type": "markdown",
   "metadata": {},
   "source": [
    "## Activation functions"
   ]
  },
  {
   "cell_type": "code",
   "execution_count": null,
   "metadata": {},
   "outputs": [],
   "source": [
    "\n",
    "\n",
    "fig, axs = plt.subplots(2, 2, sharex=False)\n",
    "axs = axs.ravel()\n",
    "x = torch.linspace(-5, 5, 1000)\n",
    "# Tanh\n",
    "axs[0].plot(x, torch.tanh(x))\n",
    "axs[0].set_title(\"Tanh\")\n",
    "# Sigmoid\n",
    "axs[1].plot(x, torch.sigmoid(x))\n",
    "axs[1].set_title(\"Sigmoid\")\n",
    "# ReLU\n",
    "axs[2].plot(x, torch.relu(x))\n",
    "axs[2].set_title(\"ReLU\")\n",
    "# LeakyReLU\n",
    "axs[3].plot(x, torch.nn.functional.leaky_relu(x, 0.1))\n",
    "axs[3].set_title(\"LeakyReLU\")\n",
    "\n",
    "for ax in axs:\n",
    "    ax.set_xlabel(r\"$x$\")\n",
    "    ax.set_ylabel(r\"$\\sigma(x)$\")\n",
    "\n",
    "plt.tight_layout()\n",
    "save_figure(fig, \"activation_functions\", \"figures\")"
   ]
  },
  {
   "cell_type": "code",
   "execution_count": null,
   "metadata": {},
   "outputs": [],
   "source": []
  }
 ],
 "metadata": {
  "kernelspec": {
   "display_name": "thesis",
   "language": "python",
   "name": "python3"
  },
  "language_info": {
   "codemirror_mode": {
    "name": "ipython",
    "version": 3
   },
   "file_extension": ".py",
   "mimetype": "text/x-python",
   "name": "python",
   "nbconvert_exporter": "python",
   "pygments_lexer": "ipython3",
   "version": "3.9.13"
  },
  "vscode": {
   "interpreter": {
    "hash": "39d765acf154c9fe5d6ffc28481a8c39dc0ee8789c85bd2436fc80a5c51a6138"
   }
  }
 },
 "nbformat": 4,
 "nbformat_minor": 2
}
