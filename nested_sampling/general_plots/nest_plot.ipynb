{
 "cells": [
  {
   "cell_type": "code",
   "execution_count": null,
   "id": "6f3240d1-ccc2-4df1-8faa-5dfc7cf40451",
   "metadata": {},
   "outputs": [],
   "source": [
    "import numpy as np\n",
    "import matplotlib.pyplot as plt\n",
    "import seaborn as sns\n",
    "\n",
    "from thesis_utils.plotting import save_figure, set_plotting, get_default_figsize\n",
    "from thesis_utils.random import seed_everything\n",
    "from thesis_utils import colours as thesis_colours\n",
    "\n",
    "set_plotting()\n",
    "seed_everything()"
   ]
  },
  {
   "cell_type": "code",
   "execution_count": null,
   "id": "66b1b0f4-c1a8-43f6-a26f-6e62138c987f",
   "metadata": {},
   "outputs": [],
   "source": [
    "x = np.concatenate([\n",
    "    np.random.normal(1, 0.5, 5000),\n",
    "    np.random.normal(-1, 0.5, 5000)\n",
    "])\n",
    "y = np.concatenate([\n",
    "    np.random.normal(-1, 0.7, 5000),\n",
    "    np.random.normal(1, 0.7, 5000)\n",
    "])"
   ]
  },
  {
   "cell_type": "code",
   "execution_count": null,
   "id": "cf887b7e-3042-48d1-858e-d775b57f5444",
   "metadata": {},
   "outputs": [],
   "source": [
    "xx = np.linspace(0, 1, 100)\n",
    "ymax = 1.5 ** 5\n",
    "yy = -(xx + 0.5)**5 + ymax"
   ]
  },
  {
   "cell_type": "code",
   "execution_count": null,
   "id": "93121644-696f-4e99-a4ab-dc09c0af0bca",
   "metadata": {},
   "outputs": [],
   "source": [
    "X = np.array([0, 0.3, 0.5, 0.7, 0.9])[::-1]\n",
    "L = -(X + 0.5)**5 + ymax"
   ]
  },
  {
   "cell_type": "code",
   "execution_count": null,
   "id": "bdeaa27b-ceed-42a9-8dff-819b7e0bbce5",
   "metadata": {},
   "outputs": [],
   "source": [
    "figsize = get_default_figsize()\n",
    "figsize[1] /= 1.5\n",
    "fig, axes = plt.subplots(1, 2, figsize=figsize)\n",
    "sns.kdeplot(\n",
    "    x=x, y=y, levels=len(X), fill=True, gridsize=100, ax=axes[0], color=thesis_colours.teal,\n",
    ")\n",
    "axes[0].set_xlim([-2.5, 2.5])\n",
    "axes[0].set_ylim([-3.5, 3.5])\n",
    "axes[0].set_xticks([])\n",
    "axes[0].set_yticks([])\n",
    "axes[0].set_xlabel('Parameter space')\n",
    "\n",
    "colours = [axes[0].get_children()[i]._facecolors[0] for i in range(4)]\n",
    "# \n",
    "axes[1].plot(xx, yy, c=thesis_colours.pillarbox)\n",
    "axes[1].set_xlim([0, 1])\n",
    "axes[1].set_ylim([0, ymax + 1])\n",
    "axes[1].set_yticks([])\n",
    "axes[1].set_xticks([1] + X.tolist())\n",
    "axes[1].set_xticklabels(['1', r'$X_1$', r'$X_2$', r'$X_3$', r'$X_4$', '0'])\n",
    "#axes[1].set_xticks([0, 1])\n",
    "#axes[1].set_xlabel(r'$X$')\n",
    "axes[1].set_ylabel(r'$\\mathcal{L}$', rotation=0, labelpad=15)\n",
    "\n",
    "for i in range(X.size - 1):\n",
    "    a = np.linspace(X[i], X[i+1])\n",
    "    b = -(a + 0.5)**5 + ymax\n",
    "    axes[1].fill_between(a, b, color=colours[i],)\n",
    "    axes[1].text(X[i], L[i] + 0.2, r\"$\\mathcal{L}\" + f\"_{i}$\")\n",
    "\n",
    "\n",
    "plt.tight_layout()\n",
    "save_figure(fig, \"nest_plot\")"
   ]
  },
  {
   "cell_type": "code",
   "execution_count": null,
   "id": "5e3a32a5",
   "metadata": {},
   "outputs": [],
   "source": []
  }
 ],
 "metadata": {
  "kernelspec": {
   "display_name": "thesis-env",
   "language": "python",
   "name": "python3"
  },
  "language_info": {
   "codemirror_mode": {
    "name": "ipython",
    "version": 3
   },
   "file_extension": ".py",
   "mimetype": "text/x-python",
   "name": "python",
   "nbconvert_exporter": "python",
   "pygments_lexer": "ipython3",
   "version": "3.9.13"
  }
 },
 "nbformat": 4,
 "nbformat_minor": 5
}
