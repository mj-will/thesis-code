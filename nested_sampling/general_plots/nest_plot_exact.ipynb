{
 "cells": [
  {
   "cell_type": "code",
   "execution_count": null,
   "metadata": {},
   "outputs": [],
   "source": [
    "import matplotlib.pyplot as plt\n",
    "import numpy as np\n",
    "from scipy import stats\n",
    "import seaborn as sns\n",
    "\n",
    "from thesis_utils.plotting import set_plotting, get_default_figsize, save_figure\n",
    "\n",
    "set_plotting()"
   ]
  },
  {
   "cell_type": "code",
   "execution_count": null,
   "metadata": {},
   "outputs": [],
   "source": [
    "bounds = 5 * np.array([-1, 1])\n",
    "prior_u = stats.uniform(bounds[0], np.ptp(bounds))"
   ]
  },
  {
   "cell_type": "code",
   "execution_count": null,
   "metadata": {},
   "outputs": [],
   "source": [
    "# Likelihood distribution\n",
    "l_dist = stats.norm()\n",
    "# Likelihood distribution as a function of r\n",
    "l_r_dist = stats.chi(df=1)"
   ]
  },
  {
   "cell_type": "code",
   "execution_count": null,
   "metadata": {},
   "outputs": [],
   "source": [
    "def likelihood(r: np.ndarray) -> np.ndarray:\n",
    "    \"\"\"Likelihood as a function of radius\"\"\"\n",
    "    return l_r_dist.pdf(r)"
   ]
  },
  {
   "attachments": {},
   "cell_type": "markdown",
   "metadata": {},
   "source": [
    "Define a function to map between prior volume and radius. This uses the `interval` function from scipy distributions and will only work for symmetric distributions."
   ]
  },
  {
   "cell_type": "code",
   "execution_count": null,
   "metadata": {},
   "outputs": [],
   "source": [
    "def prior_vol_to_radius(X: np.ndarray, dist: stats.rv_continuous):\n",
    "    \"\"\"Convert prior volume to radius for a given distribution\"\"\"\n",
    "    x = np.abs(dist.interval(X))\n",
    "    assert all(np.abs(x[0] - x[1]) < 1e-6)\n",
    "    return x[0]"
   ]
  },
  {
   "cell_type": "code",
   "execution_count": null,
   "metadata": {},
   "outputs": [],
   "source": [
    "x_vec = np.linspace(*bounds, 500)\n",
    "grid = np.array(np.meshgrid(x_vec, x_vec))\n",
    "grid_flat = np.concatenate([\n",
    "    grid[0].reshape(-1, 1),\n",
    "    grid[1].reshape(-1, 1),\n",
    "], axis=1)"
   ]
  },
  {
   "cell_type": "code",
   "execution_count": null,
   "metadata": {},
   "outputs": [],
   "source": [
    "r_grid = np.linalg.norm(grid_flat, axis=1)\n",
    "likelihood_surface = likelihood(r_grid)"
   ]
  },
  {
   "cell_type": "code",
   "execution_count": null,
   "metadata": {},
   "outputs": [],
   "source": [
    "X_shade = [0.9, 0.60, 0.30, 0.1]\n",
    "r_shade = prior_vol_to_radius(X_shade, prior_u)\n",
    "l_shade = likelihood(r_shade)\n",
    "\n",
    "contour_colours = np.zeros_like(likelihood_surface)\n",
    "\n",
    "c_min = 0.25\n",
    "c_max = 0.75\n",
    "c_values = np.linspace(c_min, c_max, len(X_shade), endpoint=True)\n",
    "for i, l in enumerate(l_shade):\n",
    "    contour_colours[likelihood_surface >= l] = c_values[i]\n"
   ]
  },
  {
   "cell_type": "code",
   "execution_count": null,
   "metadata": {},
   "outputs": [],
   "source": [
    "X_vec = np.linspace(1.0, 0.0, 1_000, endpoint=True)\n",
    "r_u = prior_vol_to_radius(X_vec, prior_u)\n",
    "l_r = likelihood(r_u)"
   ]
  },
  {
   "cell_type": "code",
   "execution_count": null,
   "metadata": {},
   "outputs": [],
   "source": [
    "cmap = sns.cubehelix_palette(start=.5, rot=-.5, as_cmap=True)\n",
    "cmap = sns.color_palette(\"Blues\", as_cmap=True)"
   ]
  },
  {
   "cell_type": "code",
   "execution_count": null,
   "metadata": {},
   "outputs": [],
   "source": [
    "cmap"
   ]
  },
  {
   "cell_type": "code",
   "execution_count": null,
   "metadata": {},
   "outputs": [],
   "source": [
    "figsize = get_default_figsize() * 0.8\n",
    "figsize[1] = figsize[0]\n",
    "\n",
    "fig, axs = plt.subplots(1, 2, figsize=figsize)\n",
    "\n",
    "axs[0].contourf(\n",
    "    grid[0],\n",
    "    grid[1],\n",
    "    contour_colours.reshape(len(grid[0]), -1),\n",
    "    cmap=cmap,\n",
    ")\n",
    "\n",
    "angle = np.pi / 4\n",
    "for i, r in enumerate(r_shade):\n",
    "    axs[0].text(\n",
    "        r * np.cos(angle),\n",
    "        r * np.sin(angle),\n",
    "        r\"$\\mathcal{L}_{\" + str(i) + r\"}$\",\n",
    "    )\n",
    "\n",
    "axs[0].set_box_aspect(1)\n",
    "axs[0].set_xticks([])\n",
    "axs[0].set_yticks([])\n",
    "\n",
    "axs[1].plot(X_vec, l_r, color=cmap(1.0))\n",
    "axs[1].set_yscale(\"log\")\n",
    "axs[1].set_xlim([0, 1])\n",
    "axs[1].set_box_aspect(1)\n",
    "\n",
    "colours = cmap(c_values)\n",
    "\n",
    "axs[1].fill_between(X_vec, l_r, color=cmap(0.0))\n",
    "\n",
    "for (i, X_i), L_i in zip(enumerate(X_shade), l_shade):\n",
    "    cutoff = np.argmax(X_vec < X_i)\n",
    "    axs[1].fill_between(\n",
    "        X_vec[cutoff:],\n",
    "        l_r[cutoff:],\n",
    "        color=colours[i]\n",
    "    )\n",
    "    axs[1].text(\n",
    "        X_i,\n",
    "        L_i,\n",
    "        r\"$\\mathcal{L}_{\" + str(i) + r\"}$\",\n",
    "    )\n",
    "    # axs[1].text(\n",
    "    #     X_i,\n",
    "    #     0.7 * axs[1].get_ylim()[0],\n",
    "    #     r\"$X_{\" + str(i) + r\"}$\",\n",
    "    #     verticalalignment=\"top\",\n",
    "    #     horizontalalignment=\"center\",\n",
    "    # )\n",
    "\n",
    "axs[1].set_xlabel(r\"$X$\")\n",
    "axs[1].set_ylabel(r\"$\\bar{\\mathcal{L}}(X)$\")\n",
    "\n",
    "axs[1].set_xticks([0, *X_shade, 1])\n",
    "axs[1].set_xticklabels([\"0\"] + [f\"$X_{i}$\" for i in range(4)] + [1])\n",
    "axs[1].set_yticks([])\n",
    "axs[1].tick_params(axis=u'both', which=u'both',length=0)\n",
    "# plt.minorticks_off()\n",
    "\n",
    "\n",
    "# axs[1].show()\n",
    "\n",
    "save_figure(fig, \"nest_plot_exact\")\n",
    "\n",
    "# plt.tight_layout()\n",
    "plt.show()"
   ]
  },
  {
   "cell_type": "code",
   "execution_count": null,
   "metadata": {},
   "outputs": [],
   "source": []
  }
 ],
 "metadata": {
  "kernelspec": {
   "display_name": "thesis-env",
   "language": "python",
   "name": "python3"
  },
  "language_info": {
   "codemirror_mode": {
    "name": "ipython",
    "version": 3
   },
   "file_extension": ".py",
   "mimetype": "text/x-python",
   "name": "python",
   "nbconvert_exporter": "python",
   "pygments_lexer": "ipython3",
   "version": "3.9.16"
  }
 },
 "nbformat": 4,
 "nbformat_minor": 2
}
