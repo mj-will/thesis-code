{
 "cells": [
  {
   "attachments": {},
   "cell_type": "markdown",
   "metadata": {},
   "source": [
    "# Comparing prior volumes with different priors\n",
    "\n",
    "Notebook to produce a figure comparing nested sampling runs with different priors.\n",
    "\n",
    "Consider a problem in 1-D with a Gaussian Likelihood.\n",
    "\n",
    "Consider two priors:\n",
    "\n",
    "- Truncated Gaussian [-5, 5]\n",
    "- Uniform [-5, 5]"
   ]
  },
  {
   "cell_type": "code",
   "execution_count": null,
   "metadata": {},
   "outputs": [],
   "source": [
    "import matplotlib.pyplot as plt\n",
    "import numpy as np\n",
    "from scipy import stats\n",
    "\n",
    "from thesis_utils.plotting import set_plotting, get_default_figsize, save_figure\n",
    "\n",
    "set_plotting()"
   ]
  },
  {
   "attachments": {},
   "cell_type": "markdown",
   "metadata": {},
   "source": [
    "Define the prior distributions"
   ]
  },
  {
   "cell_type": "code",
   "execution_count": null,
   "metadata": {},
   "outputs": [],
   "source": [
    "bounds = 5 * np.array([-1, 1])\n",
    "prior_tg = stats.truncnorm(*bounds)\n",
    "prior_u = stats.uniform(bounds[0], np.ptp(bounds))"
   ]
  },
  {
   "attachments": {},
   "cell_type": "markdown",
   "metadata": {},
   "source": [
    "Define the likelihood in the sample space and in the radius space"
   ]
  },
  {
   "cell_type": "code",
   "execution_count": null,
   "metadata": {},
   "outputs": [],
   "source": [
    "# Likelihood distribution\n",
    "l_dist = stats.norm()\n",
    "# Likelihood distribution as a function of r\n",
    "l_r_dist = stats.chi(df=1)"
   ]
  },
  {
   "cell_type": "code",
   "execution_count": null,
   "metadata": {},
   "outputs": [],
   "source": [
    "def likelihood(r: np.ndarray) -> np.ndarray:\n",
    "    \"\"\"Likelihood as a function of radius\"\"\"\n",
    "    return l_r_dist.pdf(r)"
   ]
  },
  {
   "attachments": {},
   "cell_type": "markdown",
   "metadata": {},
   "source": [
    "Define a function to map between prior volume and radius. This uses the `interval` function from scipy distributions and will only work for symmetric distributions."
   ]
  },
  {
   "cell_type": "code",
   "execution_count": null,
   "metadata": {},
   "outputs": [],
   "source": [
    "def prior_vol_to_radius(X: np.ndarray, dist: stats.rv_continuous):\n",
    "    \"\"\"Convert prior volume to radius for a given distribution\"\"\"\n",
    "    x = np.abs(dist.interval(X))\n",
    "    assert all(np.abs(x[0] - x[1]) < 1e-6)\n",
    "    return x[0]"
   ]
  },
  {
   "attachments": {},
   "cell_type": "markdown",
   "metadata": {},
   "source": [
    "Compute the likelihoods"
   ]
  },
  {
   "cell_type": "code",
   "execution_count": null,
   "metadata": {},
   "outputs": [],
   "source": [
    "X_vec = np.linspace(1.0, 0.0, 100_000, endpoint=True)\n",
    "\n",
    "r_tg = prior_vol_to_radius(X_vec, prior_tg)\n",
    "r_u = prior_vol_to_radius(X_vec, prior_u)\n",
    "samples_tg = np.random.choice([-1, 1], size=len(r_tg)) * r_tg\n",
    "samples_u = np.random.choice([-1, 1], size=len(r_u)) * r_u\n",
    "likelihood_tg = likelihood(r_tg)\n",
    "likelihood_u = likelihood(r_u)\n",
    "\n",
    "w_i = (X_vec[:-1] - X_vec[1:])"
   ]
  },
  {
   "attachments": {},
   "cell_type": "markdown",
   "metadata": {},
   "source": [
    "Estimate the evidences"
   ]
  },
  {
   "cell_type": "code",
   "execution_count": null,
   "metadata": {},
   "outputs": [],
   "source": [
    "Z_tg = np.sum(w_i[:-1] * likelihood_tg[1:-1])\n",
    "Z_u = np.sum(w_i[:-1] * likelihood_u[1:-1])\n",
    "print(Z_tg, Z_u)"
   ]
  },
  {
   "cell_type": "code",
   "execution_count": null,
   "metadata": {},
   "outputs": [],
   "source": [
    "def reweight(Z_1, P_1, samples, prior_1, prior_2):\n",
    "    pi_1 =  prior_1.pdf(samples)\n",
    "    pi_2 = prior_2.pdf(samples)\n",
    "    Z_re = Z_1 * np.sum(P_1 * (pi_2 /pi_1)[1:-1])\n",
    "    P_re = P_1 * (Z_1 / Z_re) * (pi_2 / pi_1)[1:-1]\n",
    "    return Z_re, P_re"
   ]
  },
  {
   "attachments": {},
   "cell_type": "markdown",
   "metadata": {},
   "source": [
    "Reweighting as described in https://arxiv.org/abs/2205.15570"
   ]
  },
  {
   "cell_type": "code",
   "execution_count": null,
   "metadata": {},
   "outputs": [],
   "source": [
    "P_tg = w_i[:-1] * likelihood_tg[1:-1] / Z_tg\n",
    "print(\"Gaussian to uniform\")\n",
    "Z_tg2u, P_tg2u = reweight(Z_tg, P_tg, samples_tg, prior_tg, prior_u)\n",
    "print(f\"True: {Z_u}\")\n",
    "print(f\"Estimated: {Z_tg2u}\")\n",
    "print(\"Uniform to Gaussian\")\n",
    "P_u = w_i[:-1] * likelihood_u[1:-1] / Z_u\n",
    "Z_u2tg, P_u2tg = reweight(Z_u, P_u, samples_u, prior_u, prior_tg)\n",
    "print(f\"True: {Z_tg}\")\n",
    "print(f\"Estimated: {Z_u2tg}\")"
   ]
  },
  {
   "cell_type": "code",
   "execution_count": null,
   "metadata": {},
   "outputs": [],
   "source": [
    "hist_kwargs = dict(density=True, histtype=\"step\", bins=100)\n",
    "# plt.hist(samples_tg[1:-1], weights=P_tg2u, **hist_kwargs)\n",
    "fig, axs = plt.subplots(1, 3, sharey=True, figsize=(12, 4))\n",
    "\n",
    "axs[0].hist(samples_tg[1:-1], weights=P_tg, color=\"C0\", **hist_kwargs)\n",
    "axs[0].hist(samples_u[1:-1], weights=P_u, color=\"C1\", **hist_kwargs)\n",
    "axs[0].set_title(\"Initial posteriors\")\n",
    "\n",
    "axs[1].hist(samples_tg[1:-1], weights=P_tg, color=\"C0\", **hist_kwargs)\n",
    "axs[1].hist(samples_u[1:-1], weights=P_u2tg, color=\"C1\", ls=\"--\", **hist_kwargs)\n",
    "axs[1].set_title(\"Uniform to Gaussian\")\n",
    "\n",
    "axs[2].hist(samples_u[1:-1], weights=P_u, color=\"C1\", **hist_kwargs)\n",
    "axs[2].hist(samples_tg[1:-1], weights=P_tg2u, color=\"C0\", ls=\"--\", **hist_kwargs)\n",
    "axs[2].set_title(\"Gaussian to uniform\")\n",
    "plt.show()"
   ]
  },
  {
   "attachments": {},
   "cell_type": "markdown",
   "metadata": {},
   "source": [
    "Produce the figure"
   ]
  },
  {
   "cell_type": "code",
   "execution_count": null,
   "metadata": {},
   "outputs": [],
   "source": [
    "default_figize = get_default_figsize()\n",
    "figsize = (default_figize[0], default_figize[1] / 2)\n",
    "\n",
    "fig, axs = plt.subplots(1, 2, figsize=figsize)\n",
    "\n",
    "axs[0].plot(X_vec, likelihood_tg, label=f\"Truncated Gaussian prior - Z = {Z_tg:.2f}\", ls='-')\n",
    "axs[0].plot(X_vec, likelihood_u, label=f\"Uniform prior - Z = {Z_u:.2f}\", ls='--')\n",
    "axs[0].set_xlabel(r\"$X$\")\n",
    "axs[0].set_ylabel(r\"$\\mathcal{L}(X)$\")\n",
    "\n",
    "axs[1].plot(X_vec, r_tg, ls='-')\n",
    "axs[1].plot(X_vec, r_u, ls='--')\n",
    "axs[1].set_xlabel(r\"$X$\")\n",
    "axs[1].set_ylabel(r\"$r$\")\n",
    "\n",
    "fig.legend(\n",
    "    ncol=2,\n",
    "    bbox_to_anchor=[0.5, -0.0],\n",
    "    loc='center',\n",
    ")\n",
    "plt.tight_layout()\n",
    "save_figure(fig, \"prior_volume_comparison\", \"figures\")\n",
    "plt.show()"
   ]
  },
  {
   "cell_type": "code",
   "execution_count": null,
   "metadata": {},
   "outputs": [],
   "source": []
  }
 ],
 "metadata": {
  "kernelspec": {
   "display_name": "thesis-env",
   "language": "python",
   "name": "python3"
  },
  "language_info": {
   "codemirror_mode": {
    "name": "ipython",
    "version": 3
   },
   "file_extension": ".py",
   "mimetype": "text/x-python",
   "name": "python",
   "nbconvert_exporter": "python",
   "pygments_lexer": "ipython3",
   "version": "3.9.16"
  },
  "vscode": {
   "interpreter": {
    "hash": "ef2be1866d98e7b232ea5df903e74908bf9dc09d0d6f8937263d653b3d150713"
   }
  }
 },
 "nbformat": 4,
 "nbformat_minor": 2
}
