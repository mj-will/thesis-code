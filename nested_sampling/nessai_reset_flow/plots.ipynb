{
 "cells": [
  {
   "attachments": {},
   "cell_type": "markdown",
   "metadata": {},
   "source": [
    "# Plots for testing resetting the flow\n",
    "\n",
    "Michael J. Williams 2023"
   ]
  },
  {
   "cell_type": "code",
   "execution_count": null,
   "metadata": {},
   "outputs": [],
   "source": [
    "import matplotlib.pyplot as plt\n",
    "import numpy as np\n",
    "from nessai.plot import plot_indices\n",
    "\n",
    "from thesis_utils import conf\n",
    "from thesis_utils.plotting import set_plotting, save_figure\n",
    "from thesis_utils.io import load_hdf5\n",
    "\n",
    "set_plotting()"
   ]
  },
  {
   "cell_type": "code",
   "execution_count": null,
   "metadata": {},
   "outputs": [],
   "source": [
    "no_reset_path = \"outdir/no_reset_v3/result.hdf5\"\n",
    "reset_path = \"outdir/reset_4_v3/result.hdf5\""
   ]
  },
  {
   "cell_type": "code",
   "execution_count": null,
   "metadata": {},
   "outputs": [],
   "source": [
    "no_reset_result = load_hdf5(no_reset_path)"
   ]
  },
  {
   "cell_type": "code",
   "execution_count": null,
   "metadata": {},
   "outputs": [],
   "source": [
    "reset_result = load_hdf5(reset_path)"
   ]
  },
  {
   "cell_type": "code",
   "execution_count": null,
   "metadata": {},
   "outputs": [],
   "source": [
    "history = reset_result[\"history\"]\n",
    "history_no_reset = no_reset_result[\"history\"]"
   ]
  },
  {
   "attachments": {},
   "cell_type": "markdown",
   "metadata": {},
   "source": [
    "Check the insertion indices plots."
   ]
  },
  {
   "cell_type": "code",
   "execution_count": null,
   "metadata": {},
   "outputs": [],
   "source": [
    "fig = plot_indices(reset_result[\"insertion_indices\"], nlive=2000)\n",
    "plt.show()"
   ]
  },
  {
   "cell_type": "code",
   "execution_count": null,
   "metadata": {},
   "outputs": [],
   "source": [
    "fig = plot_indices(no_reset_result[\"insertion_indices\"], nlive=2000)\n",
    "plt.show()"
   ]
  },
  {
   "attachments": {},
   "cell_type": "markdown",
   "metadata": {},
   "source": [
    "True log-evidence for 50-dimensional Gaussian"
   ]
  },
  {
   "cell_type": "code",
   "execution_count": null,
   "metadata": {},
   "outputs": [],
   "source": [
    "ln_Z = -50 * np.log(20)\n",
    "print(f\"Analytic log-evidence: {ln_Z}\")"
   ]
  },
  {
   "attachments": {},
   "cell_type": "markdown",
   "metadata": {},
   "source": [
    "Print out summary of results"
   ]
  },
  {
   "cell_type": "code",
   "execution_count": null,
   "metadata": {},
   "outputs": [],
   "source": [
    "print(\"No resetting\")\n",
    "print(f\"Log-evidence = {no_reset_result['log_evidence']} +/- {no_reset_result['log_evidence_error']}\")\n",
    "print(f\"Likelihood evaluations = {no_reset_result['total_likelihood_evaluations']}\")\n",
    "print(f\"Likelihood time [s] = {no_reset_result['likelihood_evaluation_time']}\")\n",
    "print(f\"Population time [min] = {no_reset_result['population_time'] / 60 }\")\n",
    "print(\"\\n\")\n",
    "print(\"Resetting\")\n",
    "print(f\"Log-evidence = {reset_result['log_evidence']} +/- {reset_result['log_evidence_error']}\")\n",
    "print(f\"Likelihood evaluations = {reset_result['total_likelihood_evaluations']}\")\n",
    "print(f\"Likelihood time [s] = {reset_result['likelihood_evaluation_time']}\")\n",
    "print(f\"Population time [min] = {reset_result['population_time'] / 60 }\")"
   ]
  },
  {
   "cell_type": "code",
   "execution_count": null,
   "metadata": {},
   "outputs": [],
   "source": [
    "fig, axs = plt.subplots(4, 1, sharex=True)\n",
    "\n",
    "its = history[\"iterations\"]\n",
    "dtrain = history[\"training_iterations\"][1:] - history[\"training_iterations\"][:-1]\n",
    "\n",
    "its_no_reset = history_no_reset[\"iterations\"]\n",
    "dtrain_no_reset = history_no_reset[\"training_iterations\"][1:] - history_no_reset[\"training_iterations\"][:-1]\n",
    "\n",
    "axs[0].plot(its, history[\"mean_acceptance\"])\n",
    "axs[0].plot(its_no_reset, history_no_reset[\"mean_acceptance\"], ls=conf.linestyles[1])\n",
    "axs[0].set_ylim([0, 1])\n",
    "axs[0].set_ylabel(\"Acceptance\")\n",
    "\n",
    "axs[1].plot(\n",
    "    history[\"training_iterations\"],\n",
    "    np.arange(len(history[\"training_iterations\"])),\n",
    ")\n",
    "axs[1].plot(\n",
    "    history_no_reset[\"training_iterations\"],\n",
    "    np.arange(len(history_no_reset[\"training_iterations\"])),\n",
    "    ls=conf.linestyles[1]\n",
    ")\n",
    "axs[1].set_ylim(0, len(history[\"training_iterations\"]))\n",
    "\n",
    "axs[1].set_ylabel(\"Cumulative \\ntraining count\")\n",
    "\n",
    "axs[2].plot(history[\"training_iterations\"][1:], dtrain)\n",
    "axs[2].plot(\n",
    "    history_no_reset[\"training_iterations\"][1:], dtrain_no_reset,\n",
    "    ls=conf.linestyles[1]\n",
    ")\n",
    "axs[2].set_ylabel(\"Iterations \\nbetween training\")\n",
    "axs[2].set_ylim([0, 1500])\n",
    "\n",
    "axs[3].plot(\n",
    "    history[\"population\"][\"iterations\"],\n",
    "    history[\"population\"][\"acceptance\"],\n",
    "    ls=conf.linestyles[0],\n",
    ")\n",
    "axs[3].plot(\n",
    "    history_no_reset[\"population\"][\"iterations\"],\n",
    "    history_no_reset[\"population\"][\"acceptance\"],\n",
    "    ls=conf.linestyles[1],\n",
    ")\n",
    "axs[3].set_ylabel(\"Rejection sampling \\nacceptance\")\n",
    "\n",
    "axs[3].set_yscale(\"log\")\n",
    "axs[3].set_ylim([5e-4, 1])\n",
    "\n",
    "for ax in axs:\n",
    "    ax.fill_betweenx(\n",
    "        y=ax.get_ylim(),\n",
    "        x1=0,\n",
    "        x2=history[\"training_iterations\"][0],\n",
    "        alpha=0.25,\n",
    "        zorder=-1,\n",
    "        color=\"gray\",\n",
    "        lw=0.0\n",
    "    )\n",
    "    ax.set_xlim([0, its[-1]])\n",
    "\n",
    "axs[-1].set_xlabel(\"Iteration\")\n",
    "\n",
    "plt.tight_layout()\n",
    "save_figure(fig, \"nessai_reset_diagnostics\", \"figures\")\n",
    "plt.show()"
   ]
  },
  {
   "cell_type": "code",
   "execution_count": null,
   "metadata": {},
   "outputs": [],
   "source": []
  }
 ],
 "metadata": {
  "kernelspec": {
   "display_name": "thesis-env",
   "language": "python",
   "name": "python3"
  },
  "language_info": {
   "codemirror_mode": {
    "name": "ipython",
    "version": 3
   },
   "file_extension": ".py",
   "mimetype": "text/x-python",
   "name": "python",
   "nbconvert_exporter": "python",
   "pygments_lexer": "ipython3",
   "version": "3.9.13"
  }
 },
 "nbformat": 4,
 "nbformat_minor": 2
}
