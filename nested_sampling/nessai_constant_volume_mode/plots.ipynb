{
 "cells": [
  {
   "cell_type": "code",
   "execution_count": null,
   "metadata": {},
   "outputs": [],
   "source": [
    "import os\n",
    "\n",
    "import matplotlib.pyplot as plt\n",
    "from nessai_models import MixtureOfDistributions\n",
    "import numpy as np\n",
    "import seaborn as sns\n",
    "from scipy import stats\n",
    "from thesis_utils.io import load_hdf5\n",
    "from thesis_utils.plotting import set_plotting, save_figure, get_default_figsize, pp_plot\n",
    "from thesis_utils import colours\n",
    "import pandas as pd\n",
    "\n",
    "set_plotting()"
   ]
  },
  {
   "cell_type": "code",
   "execution_count": null,
   "metadata": {},
   "outputs": [],
   "source": [
    "results = dict(\n",
    "    no_cvm = load_hdf5(\"outdir/no_cvm/result.hdf5\"),\n",
    "    no_cvm_fuzz = load_hdf5(\"outdir/no_cvm_fuzz/result.hdf5\"),\n",
    "    cvm = load_hdf5(\"outdir/cvm/result.hdf5\"),\n",
    "    cvm_98 = load_hdf5(\"outdir/cvm_98/result.hdf5\"),\n",
    "    cvm_reset = load_hdf5(\"outdir/cvm_reset/result.hdf5\"),\n",
    ")"
   ]
  },
  {
   "cell_type": "code",
   "execution_count": null,
   "metadata": {},
   "outputs": [],
   "source": [
    "result_labels = dict(\n",
    "    no_cvm = r\"\\textbf{No CVM - Default}\",\n",
    "    no_cvm_fuzz = r\"\\textbf{No CVM - }$\\epsilon_{FF} = 1.3$\",\n",
    "    cvm = r\"\\textbf{CVM - Default}\",\n",
    "    cvm_98 = r\"\\textbf{CVM  - }$\\rho_\\textrm{CVM}=0.98$\",\n",
    "    cvm_reset = r\"\\textbf{CVM - Reset}\",\n",
    ")"
   ]
  },
  {
   "cell_type": "code",
   "execution_count": null,
   "metadata": {},
   "outputs": [],
   "source": [
    "model = MixtureOfDistributions(\n",
    "    distributions={\"gaussian\": 4, \"uniform\": 4, \"halfnorm\": 4, \"gamma\": 4}\n",
    ")\n",
    "\n",
    "\n",
    "true_posterior = {}\n",
    "for name, bounds in model.bounds_mapping.items():\n",
    "    x = np.linspace(model.bounds_mapping[name][0], model.bounds_mapping[name][1], 100, endpoint=True)\n",
    "    y = np.exp(model.base_mapping[name](x))\n",
    "    cdf = np.cumsum(y) / np.sum(y)\n",
    "    true_posterior[name] = {\"x\": x, \"pdf\": y, \"cdf\": cdf}"
   ]
  },
  {
   "cell_type": "code",
   "execution_count": null,
   "metadata": {},
   "outputs": [],
   "source": [
    "\n",
    "distributions_kwargs = {}\n",
    "distributions = dict(\n",
    "    gaussian=stats.norm(\n",
    "        **distributions_kwargs.get(\"gaussian\", {})\n",
    "    ),\n",
    "    uniform=stats.uniform(\n",
    "        model.bounds_mapping[\"uniform\"][0],\n",
    "        np.ptp(model.bounds_mapping[\"uniform\"]),\n",
    "        **distributions_kwargs.get(\"uniform\", {}),\n",
    "    ),\n",
    "    gamma=stats.gamma(\n",
    "        **distributions_kwargs.get(\"gamma\", {\"a\": 1.99})\n",
    "    ),\n",
    "    halfnorm=stats.halfnorm(\n",
    "        **distributions_kwargs.get(\"halfnorm\", {})\n",
    "    ),\n",
    ")"
   ]
  },
  {
   "cell_type": "code",
   "execution_count": null,
   "metadata": {},
   "outputs": [],
   "source": [
    "p_values = {}\n",
    "for i, (key, result) in enumerate(results.items()):\n",
    "    p_values[key] = {}\n",
    "    for j, name in enumerate(model.bounds_mapping.keys()):\n",
    "        for k in range(4):\n",
    "            p = name + f\"_{k}\"\n",
    "            samples = np.sort(result[\"posterior_samples\"][p])\n",
    "            pp_data = distributions[name].cdf(samples)\n",
    "            p_values[key][p] = stats.kstest(pp_data, \"uniform\").pvalue\n",
    "    p_values[key][\"combined\"] = stats.combine_pvalues(list(p_values[key].values()))[1]"
   ]
  },
  {
   "cell_type": "code",
   "execution_count": null,
   "metadata": {},
   "outputs": [],
   "source": [
    "dist_labels = dict(\n",
    "    gaussian=\"Gaussian\",\n",
    "    halfnorm=\"Half-Gaussian\",\n",
    "    gamma=\"Gamma\",\n",
    "    uniform=\"Uniform\",\n",
    ")\n",
    "\n",
    "latex_labels = {}\n",
    "for key in distributions:\n",
    "    for k in range(4):\n",
    "        n = key + f\"_{k}\"\n",
    "        l = dist_labels.get(key)\n",
    "        latex_labels[n] = f\"{l} {k + 1}\"\n",
    "        #r\"$x_\\textrm{\" + l + \"}_{\" + str(k) + \"}$\"\n",
    "\n"
   ]
  },
  {
   "cell_type": "code",
   "execution_count": null,
   "metadata": {},
   "outputs": [],
   "source": [
    "latex_labels"
   ]
  },
  {
   "cell_type": "code",
   "execution_count": null,
   "metadata": {},
   "outputs": [],
   "source": [
    "df = pd.DataFrame(p_values)\n",
    "df = df.rename(latex_labels)\n",
    "df = df.style.format(decimal='.', precision=2)\n"
   ]
  },
  {
   "cell_type": "code",
   "execution_count": null,
   "metadata": {},
   "outputs": [],
   "source": [
    "df"
   ]
  },
  {
   "cell_type": "markdown",
   "metadata": {},
   "source": [
    "colormat = np.where(df > 0.05, \"background-color: green\", \"background-color: red\")\n",
    "df.style.apply(lambda _: colormat, axis=None)"
   ]
  },
  {
   "cell_type": "code",
   "execution_count": null,
   "metadata": {},
   "outputs": [],
   "source": [
    "latex_table = df.to_latex()\n",
    "with open(\"results/p_values_table.tex\", \"w\") as f:\n",
    "    f.write(latex_table)"
   ]
  },
  {
   "cell_type": "code",
   "execution_count": null,
   "metadata": {},
   "outputs": [],
   "source": [
    "fig, axs = plt.subplots(4, 4, sharex=\"col\", sharey=False)\n",
    "\n",
    "post_results = [results[\"no_cvm\"], results[\"cvm_reset\"]]\n",
    "true_key = \"pdf\"\n",
    "\n",
    "hist_kwargs = dict(\n",
    "    density=True,\n",
    "    histtype=\"step\",\n",
    "    cumulative=False,\n",
    "    ls=\"--\",\n",
    "    bins=32,\n",
    ")\n",
    "\n",
    "for i, name in enumerate(model.bounds_mapping.keys()):\n",
    "    for j in range(4):\n",
    "        axs[j, i].plot(\n",
    "            true_posterior[name][\"x\"],\n",
    "            true_posterior[name][true_key],\n",
    "            color=\"k\"\n",
    "        )\n",
    "        axs[j, i].set_xlim(*model.bounds_mapping[name])\n",
    "        parameter = name + f\"_{j}\"\n",
    "        for r in post_results:\n",
    "            axs[j, i].hist(r[\"posterior_samples\"][parameter], **hist_kwargs)\n",
    "\n",
    "axs[-1, 0].set_xlabel(r\"$x_\\textrm{Gaussian}$\")\n",
    "axs[-1, 1].set_xlabel(r\"$x_\\textrm{Uniform}$\")\n",
    "axs[-1, 2].set_xlabel(r\"$x_\\textrm{Gamma}$\")\n",
    "axs[-1, 3].set_xlabel(r\"$x_\\textrm{Half-Gaussian}$\")\n",
    "\n",
    "plt.tight_layout()\n",
    "plt.show()\n",
    "\n",
    "save_figure(fig, \"nessai_cvm_posteriors\")\n"
   ]
  },
  {
   "cell_type": "code",
   "execution_count": null,
   "metadata": {},
   "outputs": [],
   "source": [
    "cdf = False\n",
    "\n",
    "hist_kwargs = dict(\n",
    "    density=True,\n",
    "    histtype=\"step\",\n",
    "    cumulative=cdf,\n",
    "    ls=\"-\",\n",
    ")\n",
    "\n",
    "true_key = \"cdf\" if cdf else \"pdf\"\n",
    "\n",
    "colours = sns.color_palette(\"colorblind\", n_colors=4)\n",
    "\n",
    "figsize = get_default_figsize()\n",
    "figsize[1] *= 1.5\n",
    "\n",
    "n_results = len(results)\n",
    "\n",
    "fig, axs = plt.subplots(n_results, 4, sharex=\"col\", sharey=cdf, figsize=figsize)\n",
    "\n",
    "for i, name in enumerate(model.bounds_mapping.keys()):\n",
    "    for j in range(n_results):\n",
    "        axs[j, i].plot(\n",
    "            true_posterior[name][\"x\"],\n",
    "            true_posterior[name][true_key],\n",
    "            color=\"k\"\n",
    "        )\n",
    "        axs[j, i].set_xlim(*model.bounds_mapping[name])\n",
    "\n",
    "for i, (key, result) in enumerate(results.items()):\n",
    "    if i >= n_results:\n",
    "        break\n",
    "    for j, name in enumerate(model.bounds_mapping.keys()):\n",
    "        for k in range(4):\n",
    "            p = name + f\"_{k}\"\n",
    "            samples = np.sort(result[\"posterior_samples\"][p])\n",
    "            pp_data = distributions[name].cdf(samples)\n",
    "            n_bins = 256 if cdf else 32\n",
    "            bins = np.linspace(*model.bounds[p], n_bins)\n",
    "            axs[i, j].hist(samples, bins=bins, color=colours[k], **hist_kwargs)\n",
    "            # pp_plot(\n",
    "            #     pp_data,\n",
    "            #     ax=axs[i, j],\n",
    "            #     labels=[None],\n",
    "            #     colours=[colours[k]],\n",
    "            #     confidence_intervals=[0.997],\n",
    "            # )\n",
    "\n",
    "\n",
    "for i, key in enumerate(results):\n",
    "    axs[i, 0].set_title(result_labels[key], x=-0.25, loc=\"left\", pad=8)\n",
    "\n",
    "\n",
    "axs[-1, 0].set_xlabel(r\"$x_\\textrm{Gaussian}$\")\n",
    "axs[-1, 1].set_xlabel(r\"$x_\\textrm{Uniform}$\")\n",
    "axs[-1, 2].set_xlabel(r\"$x_\\textrm{Gamma}$\")\n",
    "axs[-1, 3].set_xlabel(r\"$x_\\textrm{Half-Gaussian}$\")\n",
    "\n",
    "plt.tight_layout()\n",
    "plt.show()\n",
    "save_figure(fig, \"nessai_cvm_posteriors\")"
   ]
  },
  {
   "cell_type": "code",
   "execution_count": null,
   "metadata": {},
   "outputs": [],
   "source": []
  }
 ],
 "metadata": {
  "kernelspec": {
   "display_name": "thesis-env",
   "language": "python",
   "name": "python3"
  },
  "language_info": {
   "codemirror_mode": {
    "name": "ipython",
    "version": 3
   },
   "file_extension": ".py",
   "mimetype": "text/x-python",
   "name": "python",
   "nbconvert_exporter": "python",
   "pygments_lexer": "ipython3",
   "version": "3.9.13"
  }
 },
 "nbformat": 4,
 "nbformat_minor": 2
}
