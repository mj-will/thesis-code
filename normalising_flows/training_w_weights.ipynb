{
 "cells": [
  {
   "cell_type": "code",
   "execution_count": null,
   "metadata": {},
   "outputs": [],
   "source": [
    "import matplotlib.pyplot as plt\n",
    "from matplotlib.lines import Line2D\n",
    "from nessai.flowmodel import FlowModel\n",
    "import numpy as np\n",
    "from scipy.stats import norm, multivariate_normal, chi\n",
    "import seaborn as sns\n",
    "import torch\n",
    "\n",
    "import thesis_utils.colours as thesis_colours\n",
    "from thesis_utils.plotting import pp_plot, set_plotting, save_figure\n",
    "from thesis_utils.random import seed_everything\n",
    "\n",
    "seed_everything()\n",
    "set_plotting()"
   ]
  },
  {
   "attachments": {},
   "cell_type": "markdown",
   "metadata": {},
   "source": [
    "# Training data"
   ]
  },
  {
   "cell_type": "code",
   "execution_count": null,
   "metadata": {},
   "outputs": [],
   "source": [
    "data = 5 * np.random.randn(10_000, 2)"
   ]
  },
  {
   "cell_type": "code",
   "execution_count": null,
   "metadata": {},
   "outputs": [],
   "source": [
    "target_dist = norm(loc=2, scale=2)"
   ]
  },
  {
   "cell_type": "code",
   "execution_count": null,
   "metadata": {},
   "outputs": [],
   "source": [
    "weights = target_dist.pdf(data).prod(axis=1) / norm(scale=5).pdf(data).prod(\n",
    "    axis=1\n",
    ")"
   ]
  },
  {
   "cell_type": "code",
   "execution_count": null,
   "metadata": {},
   "outputs": [],
   "source": [
    "true = target_dist.rvs(size=(10_000, 2))"
   ]
  },
  {
   "attachments": {},
   "cell_type": "markdown",
   "metadata": {},
   "source": [
    "## Flow"
   ]
  },
  {
   "cell_type": "code",
   "execution_count": null,
   "metadata": {},
   "outputs": [],
   "source": [
    "config = dict(\n",
    "    annealing=False,\n",
    "    patience=50,\n",
    "    lr=0.001,\n",
    "    batch_size=1000,\n",
    "    model_config=dict(\n",
    "        n_inputs=2,\n",
    "        n_neurons=16,\n",
    "        n_blocks=2,\n",
    "        kwargs=dict(\n",
    "            batch_norm_between_layers=False,\n",
    "            batch_norm_within_layers=False,\n",
    "            # linear_transform=\"lu\",\n",
    "        ),\n",
    "    ),\n",
    ")"
   ]
  },
  {
   "cell_type": "code",
   "execution_count": null,
   "metadata": {},
   "outputs": [],
   "source": [
    "fm = FlowModel(config=config, output=\"outdir/training_w_weights/\")"
   ]
  },
  {
   "cell_type": "code",
   "execution_count": null,
   "metadata": {},
   "outputs": [],
   "source": [
    "history = fm.train(data, weights=weights)"
   ]
  },
  {
   "cell_type": "code",
   "execution_count": null,
   "metadata": {},
   "outputs": [],
   "source": [
    "plt.plot(history[\"loss\"])\n",
    "plt.plot(history[\"val_loss\"])\n",
    "plt.show()"
   ]
  },
  {
   "cell_type": "code",
   "execution_count": null,
   "metadata": {},
   "outputs": [],
   "source": [
    "with torch.inference_mode():\n",
    "    samples = fm.sample(5_000)"
   ]
  },
  {
   "cell_type": "code",
   "execution_count": null,
   "metadata": {},
   "outputs": [],
   "source": [
    "fig = plt.figure()\n",
    "plt.scatter(data[:, 0], data[:, 1])\n",
    "plt.scatter(true[:, 0], true[:, 1])\n",
    "plt.scatter(samples[:, 0], samples[:, 1])\n",
    "plt.show()"
   ]
  },
  {
   "cell_type": "code",
   "execution_count": null,
   "metadata": {},
   "outputs": [],
   "source": [
    "x = np.linspace(-20, 20, 1000, endpoint=True)\n",
    "target_pdf = target_dist.pdf(x)\n",
    "data_pdf = norm(loc=0, scale=5).pdf(x)"
   ]
  },
  {
   "cell_type": "code",
   "execution_count": null,
   "metadata": {},
   "outputs": [],
   "source": [
    "labels = [r\"$x_0$\", r\"$x_1$\"]\n",
    "colours = [\"C0\", \"C1\"]\n",
    "\n",
    "fig, axs = plt.subplots(2, 1)\n",
    "axs[0].plot(x, target_pdf, label=\"Target\", c=\"k\")\n",
    "axs[0].plot(x, data_pdf, label=\"Training data\", ls=\"--\", c=thesis_colours.pillarbox)\n",
    "axs[0].hist(\n",
    "    samples[:, 0],\n",
    "    32,\n",
    "    density=True,\n",
    "    histtype=\"step\",\n",
    "    ls=\"-.\",\n",
    "    label=r\"$x_0$\",\n",
    "    color=colours[0],\n",
    ")\n",
    "axs[0].hist(\n",
    "    samples[:, 1],\n",
    "    32,\n",
    "    density=True,\n",
    "    histtype=\"step\",\n",
    "    ls=\"-.\",\n",
    "    label=r\"$x_1$\",\n",
    "    color=colours[1],\n",
    ")\n",
    "axs[0].set_xlabel(r\"$x_i$\")\n",
    "axs[0].set_ylabel(r\"$p(x_i)$\")\n",
    "\n",
    "axs[0].legend()\n",
    "\n",
    "n_steps = 1000\n",
    "for d, label, colour in zip(samples.T, labels, colours):\n",
    "    sorted_data = np.sort(d)\n",
    "    pp_data = target_dist.cdf(sorted_data)\n",
    "    fig = pp_plot(\n",
    "        pp_data,\n",
    "        labels=label,\n",
    "        ax=axs[1],\n",
    "        n_steps=n_steps,\n",
    "        # confidence_intervals=True,\n",
    "        colours=colour,\n",
    "    )\n",
    "\n",
    "axs[1].legend()\n",
    "axs[1].set_xlabel(\"Theoretical percentiles\")\n",
    "axs[1].set_ylabel(\"Sample percentiles\")\n",
    "\n",
    "plt.show()\n",
    "save_figure(fig, \"flow_weights_plot\", \"figures\")\n",
    "plt.show()"
   ]
  },
  {
   "cell_type": "code",
   "execution_count": null,
   "metadata": {},
   "outputs": [],
   "source": [
    "def get_circle_points(r, levels, n=100):\n",
    "    points = np.empty([len(levels), 2, n])\n",
    "    theta = np.linspace(0, 2 * np.pi, n)\n",
    "    dist = chi(2, scale=r)\n",
    "    for i, level in enumerate(levels):\n",
    "        r_s = dist.ppf(level)\n",
    "        x = r_s * np.ones(2) / np.sqrt(2)\n",
    "        points[i, 0] = r_s * np.cos(theta)\n",
    "        points[i, 1] = r_s * np.sin(theta)\n",
    "    return points"
   ]
  },
  {
   "cell_type": "code",
   "execution_count": null,
   "metadata": {},
   "outputs": [],
   "source": [
    "levels = 1.0 - np.exp(-0.5 * np.arange(1.0, 3.1, 1.0) ** 2)"
   ]
  },
  {
   "cell_type": "code",
   "execution_count": null,
   "metadata": {},
   "outputs": [],
   "source": [
    "legend_elements = [\n",
    "    Line2D([0, 0], [0, 0], ls=\"--\", color=\"grey\", label=\"Training data\"),\n",
    "    Line2D([0, 0], [0, 0], ls=\"-.\", color=thesis_colours.pillarbox, label=\"Target\"),\n",
    "    Line2D([0, 0], [0, 0], ls=\"-\", color=thesis_colours.cobalt, label=\"Flow\"),\n",
    "]"
   ]
  },
  {
   "cell_type": "code",
   "execution_count": null,
   "metadata": {},
   "outputs": [],
   "source": [
    "fig, axs = plt.subplots(1, 2)\n",
    "\n",
    "data_points = get_circle_points(5, levels)\n",
    "ls = [\"-\", \"-.\", \":\"]\n",
    "for i, p in enumerate(data_points):\n",
    "    axs[0].plot(p[0], p[1], c=\"grey\", ls=\"--\")\n",
    "\n",
    "target_points = get_circle_points(2, levels) + 2\n",
    "ls = [\"-\", \"-.\", \":\"]\n",
    "for i, p in enumerate(target_points):\n",
    "    axs[0].plot(p[0], p[1], c=thesis_colours.pillarbox, ls=\"-.\")\n",
    "\n",
    "sns.kdeplot(\n",
    "    x=samples[:, 0],\n",
    "    y=samples[:, 1],\n",
    "    levels=(1 - levels)[::-1],\n",
    "    ax=axs[0],\n",
    "    color=thesis_colours.cobalt,\n",
    "    bw_adjust=1.0,\n",
    ")\n",
    "\n",
    "axs[0].set_xlabel(r\"$x_0$\")\n",
    "axs[0].set_ylabel(r\"$x_1$\")\n",
    "\n",
    "axs[0].legend(handles=legend_elements, loc=\"lower left\")\n",
    "\n",
    "\n",
    "n_steps = 1000\n",
    "for d, label, colour in zip(samples.T, labels, colours):\n",
    "    sorted_data = np.sort(d)\n",
    "    pp_data = target_dist.cdf(sorted_data)\n",
    "    fig = pp_plot(\n",
    "        pp_data,\n",
    "        labels=label,\n",
    "        ax=axs[1],\n",
    "        n_steps=n_steps,\n",
    "        confidence_intervals=[0.995],\n",
    "        colours=colour,\n",
    "    )\n",
    "\n",
    "\n",
    "axs[1].legend()\n",
    "axs[1].set_xlabel(\"Theoretical percentiles\")\n",
    "axs[1].set_ylabel(\"Sample percentiles\")\n",
    "\n",
    "for ax in axs:\n",
    "    ax.set_aspect('equal', 'box')\n",
    "\n",
    "plt.tight_layout()\n",
    "plt.show()\n",
    "save_figure(fig, \"flow_weights_plot_alt\")"
   ]
  },
  {
   "cell_type": "code",
   "execution_count": null,
   "metadata": {},
   "outputs": [],
   "source": []
  }
 ],
 "metadata": {
  "kernelspec": {
   "display_name": "thesis-env",
   "language": "python",
   "name": "python3"
  },
  "language_info": {
   "codemirror_mode": {
    "name": "ipython",
    "version": 3
   },
   "file_extension": ".py",
   "mimetype": "text/x-python",
   "name": "python",
   "nbconvert_exporter": "python",
   "pygments_lexer": "ipython3",
   "version": "3.9.13"
  },
  "vscode": {
   "interpreter": {
    "hash": "ef2be1866d98e7b232ea5df903e74908bf9dc09d0d6f8937263d653b3d150713"
   }
  }
 },
 "nbformat": 4,
 "nbformat_minor": 2
}
