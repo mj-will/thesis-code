{
 "cells": [
  {
   "cell_type": "code",
   "execution_count": null,
   "metadata": {},
   "outputs": [],
   "source": [
    "from glasflow.nflows.transforms import LULinear\n",
    "from glasflow.nflows.distributions import StandardNormal\n",
    "from nessai.flows.base import NFlow\n",
    "import torch\n",
    "import matplotlib.pyplot as plt\n",
    "import seaborn as sns\n",
    "\n",
    "from thesis_utils.plotting import (\n",
    "    set_plotting,\n",
    "    save_figure,\n",
    "    get_default_figsize,\n",
    ")\n",
    "from thesis_utils.random import seed_everything\n",
    "\n",
    "set_plotting()\n",
    "seed_everything()"
   ]
  },
  {
   "cell_type": "code",
   "execution_count": null,
   "metadata": {},
   "outputs": [],
   "source": [
    "dims = 2"
   ]
  },
  {
   "cell_type": "code",
   "execution_count": null,
   "metadata": {},
   "outputs": [],
   "source": [
    "data_dist = torch.distributions.MultivariateNormal(\n",
    "    torch.ones(dims), covariance_matrix=torch.tensor([[1.2, 0.9], [0.9, 1.2]])\n",
    ")"
   ]
  },
  {
   "cell_type": "code",
   "execution_count": null,
   "metadata": {},
   "outputs": [],
   "source": [
    "reference_data = data_dist.sample((50_000,))"
   ]
  },
  {
   "cell_type": "code",
   "execution_count": null,
   "metadata": {},
   "outputs": [],
   "source": [
    "transform = LULinear(dims)\n",
    "dist = StandardNormal((dims,))\n",
    "flow = NFlow(transform, dist)"
   ]
  },
  {
   "cell_type": "code",
   "execution_count": null,
   "metadata": {},
   "outputs": [],
   "source": [
    "optimizer = torch.optim.Adam(flow.parameters(), lr=0.05)\n",
    "n_epochs = 1000\n",
    "batch_size = 1000\n",
    "history = []\n",
    "\n",
    "for e in range(n_epochs):\n",
    "    data = data_dist.sample((batch_size,))\n",
    "\n",
    "    optimizer.zero_grad()\n",
    "\n",
    "    loss = -flow.log_prob(data).mean()\n",
    "    loss.backward()\n",
    "    optimizer.step()\n",
    "    history.append(loss.item())"
   ]
  },
  {
   "cell_type": "code",
   "execution_count": null,
   "metadata": {},
   "outputs": [],
   "source": [
    "plt.plot(history)\n",
    "plt.xlabel(\"Epoch\")\n",
    "plt.ylabel(\"Loss\")\n",
    "plt.show()"
   ]
  },
  {
   "cell_type": "code",
   "execution_count": null,
   "metadata": {},
   "outputs": [],
   "source": [
    "flow.eval()\n",
    "with torch.inference_mode():\n",
    "    z = flow.forward(reference_data)[0]"
   ]
  },
  {
   "cell_type": "code",
   "execution_count": null,
   "metadata": {},
   "outputs": [],
   "source": [
    "fig, axs = plt.subplots(1, 2)\n",
    "plt.setp(axs.flat, aspect=1.0, adjustable=\"box\")\n",
    "\n",
    "xrange = [-4.0, 4.0]\n",
    "\n",
    "kwargs = dict(\n",
    "    fill=True,\n",
    "    cmap=\"Blues\",\n",
    "    levels=6,\n",
    "    thresh=0,\n",
    "    clip=xrange,\n",
    ")\n",
    "\n",
    "\n",
    "sns.kdeplot(\n",
    "    x=reference_data[:, 0],\n",
    "    y=reference_data[:, 1],\n",
    "    ax=axs[0],\n",
    "    **kwargs,\n",
    ")\n",
    "\n",
    "\n",
    "sns.kdeplot(\n",
    "    x=z[:, 0],\n",
    "    y=z[:, 1],\n",
    "    ax=axs[1],\n",
    "    **kwargs,\n",
    ")\n",
    "\n",
    "zero_colour = axs[1].get_children()[2].get_facecolor()\n",
    "for ax in axs:\n",
    "    ax.set_facecolor(zero_colour)\n",
    "    ax.set_xlim(xrange)\n",
    "    ax.set_ylim(xrange)\n",
    "\n",
    "axs[0].set_xlabel(r\"$x_0$\")\n",
    "axs[0].set_ylabel(r\"$x_1$\")\n",
    "axs[1].set_xlabel(r\"$z_0$\")\n",
    "axs[1].set_ylabel(r\"$z_1$\")\n",
    "\n",
    "plt.show()"
   ]
  },
  {
   "cell_type": "code",
   "execution_count": null,
   "metadata": {},
   "outputs": [],
   "source": [
    "save_figure(fig, \"lu_factorization\", \"figures\")"
   ]
  },
  {
   "cell_type": "code",
   "execution_count": null,
   "metadata": {},
   "outputs": [],
   "source": []
  }
 ],
 "metadata": {
  "kernelspec": {
   "display_name": "thesis-env",
   "language": "python",
   "name": "python3"
  },
  "language_info": {
   "codemirror_mode": {
    "name": "ipython",
    "version": 3
   },
   "file_extension": ".py",
   "mimetype": "text/x-python",
   "name": "python",
   "nbconvert_exporter": "python",
   "pygments_lexer": "ipython3",
   "version": "3.9.13"
  },
  "vscode": {
   "interpreter": {
    "hash": "ef2be1866d98e7b232ea5df903e74908bf9dc09d0d6f8937263d653b3d150713"
   }
  }
 },
 "nbformat": 4,
 "nbformat_minor": 2
}
